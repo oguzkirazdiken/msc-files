{
 "cells": [
  {
   "cell_type": "markdown",
   "metadata": {
    "kernel": "SoS"
   },
   "source": [
    "# Oguz Kirazdiken BDM Final"
   ]
  },
  {
   "cell_type": "markdown",
   "metadata": {
    "kernel": "SoS"
   },
   "source": [
    "ID - 311902013"
   ]
  },
  {
   "cell_type": "markdown",
   "metadata": {
    "kernel": "SoS"
   },
   "source": [
    "## Question 1"
   ]
  },
  {
   "cell_type": "code",
   "execution_count": 1,
   "metadata": {
    "kernel": "Bash",
    "scrolled": true
   },
   "outputs": [
    {
     "name": "stdout",
     "output_type": "stream",
     "text": [
      "Starting PostgreSQL 11 database server: main.\n"
     ]
    }
   ],
   "source": [
    "sudo service postgresql start"
   ]
  },
  {
   "cell_type": "code",
   "execution_count": 8,
   "metadata": {
    "kernel": "Bash",
    "scrolled": true
   },
   "outputs": [
    {
     "name": "stdout",
     "output_type": "stream",
     "text": [
      "                              List of databases\n",
      "   Name    |  Owner   | Encoding | Collate |  Ctype  |   Access privileges   \n",
      "-----------+----------+----------+---------+---------+-----------------------\n",
      " imdb2     | postgres | UTF8     | C.UTF-8 | C.UTF-8 | \n",
      " postgres  | postgres | UTF8     | C.UTF-8 | C.UTF-8 | \n",
      " template0 | postgres | UTF8     | C.UTF-8 | C.UTF-8 | =c/postgres          +\n",
      "           |          |          |         |         | postgres=CTc/postgres\n",
      " template1 | postgres | UTF8     | C.UTF-8 | C.UTF-8 | =c/postgres          +\n",
      "           |          |          |         |         | postgres=CTc/postgres\n",
      " world     | postgres | UTF8     | C.UTF-8 | C.UTF-8 | \n",
      "(5 rows)\n",
      "\n"
     ]
    }
   ],
   "source": [
    "psql -U postgres -c \"\\l\""
   ]
  },
  {
   "cell_type": "markdown",
   "metadata": {
    "kernel": "Bash"
   },
   "source": [
    "### About Dataset"
   ]
  },
  {
   "cell_type": "markdown",
   "metadata": {
    "kernel": "Bash"
   },
   "source": [
    "Our dataset consists 41540 international match records between 1872 - 2019. There are also home/away team scores, date and place information."
   ]
  },
  {
   "cell_type": "code",
   "execution_count": 9,
   "metadata": {
    "kernel": "Bash"
   },
   "outputs": [],
   "source": [
    "datadir=~/data\n",
    "\n",
    "mkdir -p $datadir/results"
   ]
  },
  {
   "cell_type": "code",
   "execution_count": 10,
   "metadata": {
    "kernel": "Bash"
   },
   "outputs": [
    {
     "name": "stdout",
     "output_type": "stream",
     "text": [
      "\u001b[0m\u001b[01;34mcomtrade_s1\u001b[0m  \u001b[01;34mhe_sisli\u001b[0m  \u001b[01;34mimdb\u001b[0m  \u001b[01;34mncdc\u001b[0m  \u001b[01;34mngrams\u001b[0m  \u001b[01;34mresults\u001b[0m  \u001b[01;31mworld-1.0.tar.gz\u001b[0m\n"
     ]
    }
   ],
   "source": [
    "ls $datadir"
   ]
  },
  {
   "cell_type": "code",
   "execution_count": 6,
   "metadata": {
    "kernel": "Bash",
    "scrolled": true
   },
   "outputs": [
    {
     "name": "stdout",
     "output_type": "stream",
     "text": [
      "--2020-01-04 18:42:03--  https://github.com/oguzkirazdiken/oguz.kirazdiken/raw/master/results1.csv\n",
      "Resolving github.com (github.com)... 140.82.118.4\n",
      "Connecting to github.com (github.com)|140.82.118.4|:443... connected.\n",
      "HTTP request sent, awaiting response... 302 Found\n",
      "Location: https://raw.githubusercontent.com/oguzkirazdiken/oguz.kirazdiken/master/results1.csv [following]\n",
      "--2020-01-04 18:42:04--  https://raw.githubusercontent.com/oguzkirazdiken/oguz.kirazdiken/master/results1.csv\n",
      "Resolving raw.githubusercontent.com (raw.githubusercontent.com)... 151.101.192.133, 151.101.128.133, 151.101.64.133, ...\n",
      "Connecting to raw.githubusercontent.com (raw.githubusercontent.com)|151.101.192.133|:443... connected.\n",
      "HTTP request sent, awaiting response... 200 OK\n",
      "Length: 4300030 (4.1M) [text/plain]\n",
      "Saving to: ‘/home/jovyan/data/results/results1.csv’\n",
      "\n",
      "results1.csv        100%[===================>]   4.10M  --.-KB/s    in 0.1s    \n",
      "\n",
      "2020-01-04 18:42:04 (28.2 MB/s) - ‘/home/jovyan/data/results/results1.csv’ saved [4300030/4300030]\n",
      "\n"
     ]
    }
   ],
   "source": [
    "wget https://github.com/oguzkirazdiken/oguz.kirazdiken/raw/master/results1.csv -P $datadir/results/"
   ]
  },
  {
   "cell_type": "code",
   "execution_count": 11,
   "metadata": {
    "kernel": "Bash"
   },
   "outputs": [
    {
     "name": "stdout",
     "output_type": "stream",
     "text": [
      "results1.csv\n"
     ]
    }
   ],
   "source": [
    "ls $datadir/results"
   ]
  },
  {
   "cell_type": "code",
   "execution_count": 12,
   "metadata": {
    "kernel": "Bash"
   },
   "outputs": [],
   "source": [
    "createdb -U postgres results"
   ]
  },
  {
   "cell_type": "code",
   "execution_count": 13,
   "metadata": {
    "kernel": "Bash"
   },
   "outputs": [
    {
     "name": "stdout",
     "output_type": "stream",
     "text": [
      "                              List of databases\n",
      "   Name    |  Owner   | Encoding | Collate |  Ctype  |   Access privileges   \n",
      "-----------+----------+----------+---------+---------+-----------------------\n",
      " imdb2     | postgres | UTF8     | C.UTF-8 | C.UTF-8 | \n",
      " postgres  | postgres | UTF8     | C.UTF-8 | C.UTF-8 | \n",
      " results   | postgres | UTF8     | C.UTF-8 | C.UTF-8 | \n",
      " template0 | postgres | UTF8     | C.UTF-8 | C.UTF-8 | =c/postgres          +\n",
      "           |          |          |         |         | postgres=CTc/postgres\n",
      " template1 | postgres | UTF8     | C.UTF-8 | C.UTF-8 | =c/postgres          +\n",
      "           |          |          |         |         | postgres=CTc/postgres\n",
      " world     | postgres | UTF8     | C.UTF-8 | C.UTF-8 | \n",
      "(6 rows)\n",
      "\n"
     ]
    }
   ],
   "source": [
    "psql -U postgres -c \"\\l\""
   ]
  },
  {
   "cell_type": "code",
   "execution_count": 14,
   "metadata": {
    "kernel": "Python 3"
   },
   "outputs": [],
   "source": [
    "%load_ext sql"
   ]
  },
  {
   "cell_type": "code",
   "execution_count": 15,
   "metadata": {
    "kernel": "Python 3",
    "scrolled": true
   },
   "outputs": [
    {
     "data": {
      "text/plain": [
       "'Connected: postgres@results'"
      ]
     },
     "execution_count": 15,
     "metadata": {},
     "output_type": "execute_result"
    }
   ],
   "source": [
    "%sql postgres://postgres@localhost/results"
   ]
  },
  {
   "cell_type": "code",
   "execution_count": 16,
   "metadata": {
    "kernel": "Python 3"
   },
   "outputs": [
    {
     "name": "stdout",
     "output_type": "stream",
     "text": [
      " * postgres://postgres@localhost/results\n",
      "Done.\n"
     ]
    },
    {
     "data": {
      "text/plain": [
       "[]"
      ]
     },
     "execution_count": 16,
     "metadata": {},
     "output_type": "execute_result"
    }
   ],
   "source": [
    "%%sql\n",
    "CREATE TABLE results_table\n",
    "(\n",
    "    date text,\n",
    "    home_team text,\n",
    "    away_team text,\n",
    "    home_score integer,\n",
    "    away_score integer,\n",
    "    tournament text,\n",
    "    city text,\n",
    "    country text,\n",
    "    neutral text,\n",
    "    Winner text,\n",
    "    Loser text,\n",
    "    Year integer,\n",
    "    Month integer,\n",
    "    Day integer,\n",
    "    total_goals integer  \n",
    ");"
   ]
  },
  {
   "cell_type": "code",
   "execution_count": 19,
   "metadata": {
    "kernel": "Bash"
   },
   "outputs": [
    {
     "name": "stdout",
     "output_type": "stream",
     "text": [
      "                         List of relations\n",
      " Schema |     Name      | Type  |  Owner   |  Size   | Description \n",
      "--------+---------------+-------+----------+---------+-------------\n",
      " public | results_table | table | postgres | 5920 kB | \n",
      "(1 row)\n",
      "\n"
     ]
    }
   ],
   "source": [
    "psql -U postgres -d results -c \"\\dt+\""
   ]
  },
  {
   "cell_type": "code",
   "execution_count": 18,
   "metadata": {
    "kernel": "Python 3"
   },
   "outputs": [
    {
     "name": "stdout",
     "output_type": "stream",
     "text": [
      " * postgres://postgres@localhost/results\n",
      "41540 rows affected.\n"
     ]
    },
    {
     "data": {
      "text/plain": [
       "[]"
      ]
     },
     "execution_count": 18,
     "metadata": {},
     "output_type": "execute_result"
    }
   ],
   "source": [
    "%%sql\n",
    "COPY results_table FROM '/home/jovyan/data/results/results1.csv' DELIMITER ',' CSV HEADER;"
   ]
  },
  {
   "cell_type": "code",
   "execution_count": 20,
   "metadata": {
    "kernel": "Python 3",
    "scrolled": true
   },
   "outputs": [
    {
     "name": "stdout",
     "output_type": "stream",
     "text": [
      " * postgres://postgres@localhost/results\n",
      "5 rows affected.\n"
     ]
    },
    {
     "data": {
      "text/html": [
       "<table>\n",
       "    <tr>\n",
       "        <th>date</th>\n",
       "        <th>home_team</th>\n",
       "        <th>away_team</th>\n",
       "        <th>home_score</th>\n",
       "        <th>away_score</th>\n",
       "        <th>tournament</th>\n",
       "        <th>city</th>\n",
       "        <th>country</th>\n",
       "        <th>neutral</th>\n",
       "        <th>winner</th>\n",
       "        <th>loser</th>\n",
       "        <th>year</th>\n",
       "        <th>month</th>\n",
       "        <th>day</th>\n",
       "        <th>total_goals</th>\n",
       "    </tr>\n",
       "    <tr>\n",
       "        <td>1872-11-30</td>\n",
       "        <td>Scotland</td>\n",
       "        <td>England</td>\n",
       "        <td>0</td>\n",
       "        <td>0</td>\n",
       "        <td>Friendly</td>\n",
       "        <td>Glasgow</td>\n",
       "        <td>Scotland</td>\n",
       "        <td>False</td>\n",
       "        <td>tie</td>\n",
       "        <td>tie</td>\n",
       "        <td>1872</td>\n",
       "        <td>11</td>\n",
       "        <td>30</td>\n",
       "        <td>0</td>\n",
       "    </tr>\n",
       "    <tr>\n",
       "        <td>1873-03-08</td>\n",
       "        <td>England</td>\n",
       "        <td>Scotland</td>\n",
       "        <td>4</td>\n",
       "        <td>2</td>\n",
       "        <td>Friendly</td>\n",
       "        <td>London</td>\n",
       "        <td>England</td>\n",
       "        <td>False</td>\n",
       "        <td>England</td>\n",
       "        <td>Scotland</td>\n",
       "        <td>1873</td>\n",
       "        <td>3</td>\n",
       "        <td>8</td>\n",
       "        <td>6</td>\n",
       "    </tr>\n",
       "    <tr>\n",
       "        <td>1874-03-07</td>\n",
       "        <td>Scotland</td>\n",
       "        <td>England</td>\n",
       "        <td>2</td>\n",
       "        <td>1</td>\n",
       "        <td>Friendly</td>\n",
       "        <td>Glasgow</td>\n",
       "        <td>Scotland</td>\n",
       "        <td>False</td>\n",
       "        <td>Scotland</td>\n",
       "        <td>England</td>\n",
       "        <td>1874</td>\n",
       "        <td>3</td>\n",
       "        <td>7</td>\n",
       "        <td>3</td>\n",
       "    </tr>\n",
       "    <tr>\n",
       "        <td>1875-03-06</td>\n",
       "        <td>England</td>\n",
       "        <td>Scotland</td>\n",
       "        <td>2</td>\n",
       "        <td>2</td>\n",
       "        <td>Friendly</td>\n",
       "        <td>London</td>\n",
       "        <td>England</td>\n",
       "        <td>False</td>\n",
       "        <td>tie</td>\n",
       "        <td>tie</td>\n",
       "        <td>1875</td>\n",
       "        <td>3</td>\n",
       "        <td>6</td>\n",
       "        <td>4</td>\n",
       "    </tr>\n",
       "    <tr>\n",
       "        <td>1876-03-04</td>\n",
       "        <td>Scotland</td>\n",
       "        <td>England</td>\n",
       "        <td>3</td>\n",
       "        <td>0</td>\n",
       "        <td>Friendly</td>\n",
       "        <td>Glasgow</td>\n",
       "        <td>Scotland</td>\n",
       "        <td>False</td>\n",
       "        <td>Scotland</td>\n",
       "        <td>England</td>\n",
       "        <td>1876</td>\n",
       "        <td>3</td>\n",
       "        <td>4</td>\n",
       "        <td>3</td>\n",
       "    </tr>\n",
       "</table>"
      ],
      "text/plain": [
       "[('1872-11-30', 'Scotland', 'England', 0, 0, 'Friendly', 'Glasgow', 'Scotland', 'False', 'tie', 'tie', 1872, 11, 30, 0),\n",
       " ('1873-03-08', 'England', 'Scotland', 4, 2, 'Friendly', 'London', 'England', 'False', 'England', 'Scotland', 1873, 3, 8, 6),\n",
       " ('1874-03-07', 'Scotland', 'England', 2, 1, 'Friendly', 'Glasgow', 'Scotland', 'False', 'Scotland', 'England', 1874, 3, 7, 3),\n",
       " ('1875-03-06', 'England', 'Scotland', 2, 2, 'Friendly', 'London', 'England', 'False', 'tie', 'tie', 1875, 3, 6, 4),\n",
       " ('1876-03-04', 'Scotland', 'England', 3, 0, 'Friendly', 'Glasgow', 'Scotland', 'False', 'Scotland', 'England', 1876, 3, 4, 3)]"
      ]
     },
     "execution_count": 20,
     "metadata": {},
     "output_type": "execute_result"
    }
   ],
   "source": [
    "%%sql\n",
    "SELECT *\n",
    "FROM results_table\n",
    "LIMIT 5;"
   ]
  },
  {
   "cell_type": "markdown",
   "metadata": {
    "kernel": "Python 3"
   },
   "source": [
    "### Part 1"
   ]
  },
  {
   "cell_type": "markdown",
   "metadata": {
    "kernel": "Python 3"
   },
   "source": [
    "The most winning 4 teams and their total wins that they get from the matches with each other."
   ]
  },
  {
   "cell_type": "code",
   "execution_count": 21,
   "metadata": {
    "kernel": "Python 3"
   },
   "outputs": [
    {
     "name": "stdout",
     "output_type": "stream",
     "text": [
      " * postgres://postgres@localhost/results\n",
      "4 rows affected.\n"
     ]
    },
    {
     "data": {
      "text/html": [
       "<table>\n",
       "    <tr>\n",
       "        <th>winner</th>\n",
       "        <th>total_wins</th>\n",
       "    </tr>\n",
       "    <tr>\n",
       "        <td>Brazil</td>\n",
       "        <td>625</td>\n",
       "    </tr>\n",
       "    <tr>\n",
       "        <td>England</td>\n",
       "        <td>572</td>\n",
       "    </tr>\n",
       "    <tr>\n",
       "        <td>Germany</td>\n",
       "        <td>555</td>\n",
       "    </tr>\n",
       "    <tr>\n",
       "        <td>Argentina</td>\n",
       "        <td>526</td>\n",
       "    </tr>\n",
       "</table>"
      ],
      "text/plain": [
       "[('Brazil', 625), ('England', 572), ('Germany', 555), ('Argentina', 526)]"
      ]
     },
     "execution_count": 21,
     "metadata": {},
     "output_type": "execute_result"
    }
   ],
   "source": [
    "%%sql\n",
    "\n",
    "SELECT winner,count(*) as total_wins\n",
    "FROM results_table\n",
    "GROUP BY winner\n",
    "HAVING NOT winner ~* 'tie'\n",
    "ORDER BY count(*) DESC\n",
    "LIMIT 4\n",
    "\n",
    ";"
   ]
  },
  {
   "cell_type": "code",
   "execution_count": 16,
   "metadata": {
    "kernel": "Python 3"
   },
   "outputs": [
    {
     "name": "stdout",
     "output_type": "stream",
     "text": [
      " * postgres://postgres@localhost/results\n",
      "4 rows affected.\n"
     ]
    },
    {
     "data": {
      "text/html": [
       "<table>\n",
       "    <tr>\n",
       "        <th>winner</th>\n",
       "        <th>total_wins_from_eo</th>\n",
       "    </tr>\n",
       "    <tr>\n",
       "        <td>Brazil</td>\n",
       "        <td>67</td>\n",
       "    </tr>\n",
       "    <tr>\n",
       "        <td>Argentina</td>\n",
       "        <td>50</td>\n",
       "    </tr>\n",
       "    <tr>\n",
       "        <td>Germany</td>\n",
       "        <td>25</td>\n",
       "    </tr>\n",
       "    <tr>\n",
       "        <td>England</td>\n",
       "        <td>23</td>\n",
       "    </tr>\n",
       "</table>"
      ],
      "text/plain": [
       "[('Brazil', 67), ('Argentina', 50), ('Germany', 25), ('England', 23)]"
      ]
     },
     "execution_count": 16,
     "metadata": {},
     "output_type": "execute_result"
    }
   ],
   "source": [
    "%%sql\n",
    "\n",
    "SELECT winner,count(*) as total_wins_from_eo\n",
    "FROM results_table\n",
    "WHERE home_team IN (\n",
    "        SELECT winner\n",
    "        FROM results_table\n",
    "        GROUP BY winner\n",
    "        HAVING NOT winner ~* 'tie'\n",
    "        ORDER BY count(*) DESC\n",
    "        LIMIT 4 ) \n",
    "AND away_team IN (\n",
    "        SELECT winner\n",
    "        FROM results_table\n",
    "        GROUP BY winner\n",
    "        HAVING NOT winner ~* 'tie'\n",
    "        ORDER BY count(*) DESC\n",
    "        LIMIT 4 )\n",
    "GROUP BY winner\n",
    "HAVING NOT winner ~* 'tie'\n",
    "ORDER BY count(*) DESC\n",
    ";"
   ]
  },
  {
   "cell_type": "markdown",
   "metadata": {
    "kernel": "Python 3"
   },
   "source": [
    "When we check the total wins from each other, rankings are changing"
   ]
  },
  {
   "cell_type": "markdown",
   "metadata": {
    "kernel": "Python 3"
   },
   "source": [
    "### Part 2"
   ]
  },
  {
   "cell_type": "markdown",
   "metadata": {
    "kernel": "Python 3"
   },
   "source": [
    "The most scoring teams in Fifa World Cup matches."
   ]
  },
  {
   "cell_type": "code",
   "execution_count": 17,
   "metadata": {
    "kernel": "Python 3"
   },
   "outputs": [
    {
     "name": "stdout",
     "output_type": "stream",
     "text": [
      " * postgres://postgres@localhost/results\n",
      "10 rows affected.\n"
     ]
    },
    {
     "data": {
      "text/html": [
       "<table>\n",
       "    <tr>\n",
       "        <th>team</th>\n",
       "        <th>total_goals</th>\n",
       "    </tr>\n",
       "    <tr>\n",
       "        <td>Germany</td>\n",
       "        <td>518</td>\n",
       "    </tr>\n",
       "    <tr>\n",
       "        <td>Brazil</td>\n",
       "        <td>455</td>\n",
       "    </tr>\n",
       "    <tr>\n",
       "        <td>Mexico</td>\n",
       "        <td>452</td>\n",
       "    </tr>\n",
       "    <tr>\n",
       "        <td>Netherlands</td>\n",
       "        <td>382</td>\n",
       "    </tr>\n",
       "    <tr>\n",
       "        <td>Australia</td>\n",
       "        <td>378</td>\n",
       "    </tr>\n",
       "    <tr>\n",
       "        <td>Spain</td>\n",
       "        <td>375</td>\n",
       "    </tr>\n",
       "    <tr>\n",
       "        <td>Argentina</td>\n",
       "        <td>371</td>\n",
       "    </tr>\n",
       "    <tr>\n",
       "        <td>England</td>\n",
       "        <td>366</td>\n",
       "    </tr>\n",
       "    <tr>\n",
       "        <td>Italy</td>\n",
       "        <td>349</td>\n",
       "    </tr>\n",
       "    <tr>\n",
       "        <td>Sweden</td>\n",
       "        <td>347</td>\n",
       "    </tr>\n",
       "</table>"
      ],
      "text/plain": [
       "[('Germany', 518),\n",
       " ('Brazil', 455),\n",
       " ('Mexico', 452),\n",
       " ('Netherlands', 382),\n",
       " ('Australia', 378),\n",
       " ('Spain', 375),\n",
       " ('Argentina', 371),\n",
       " ('England', 366),\n",
       " ('Italy', 349),\n",
       " ('Sweden', 347)]"
      ]
     },
     "execution_count": 17,
     "metadata": {},
     "output_type": "execute_result"
    }
   ],
   "source": [
    "%%sql\n",
    "WITH away_table AS(\n",
    "SELECT away_team,sum(away_score) as scores_as_awayteam\n",
    "FROM results_table\n",
    "WHERE tournament ~* 'fifa world cup'\n",
    "GROUP BY away_team\n",
    "),\n",
    "home_table AS(\n",
    "SELECT home_team,sum(home_score) as scores_as_hometeam\n",
    "FROM results_table\n",
    "WHERE tournament ~* 'fifa world cup'\n",
    "GROUP BY home_team\n",
    ")\n",
    "SELECT ht.home_team as team,(scores_as_hometeam + scores_as_awayteam) as total_goals\n",
    "FROM home_table ht\n",
    "    INNER JOIN away_table at ON ht.home_team = at.away_team\n",
    "ORDER BY (scores_as_hometeam + scores_as_awayteam) DESC\n",
    "LIMIT 10\n",
    ";\n",
    "\n",
    "\n"
   ]
  },
  {
   "cell_type": "markdown",
   "metadata": {
    "kernel": "Python 3"
   },
   "source": [
    "The most scorer team in fifa world cup matches is Germany !"
   ]
  },
  {
   "cell_type": "markdown",
   "metadata": {
    "kernel": "Python 3"
   },
   "source": [
    "## Question 2"
   ]
  },
  {
   "cell_type": "markdown",
   "metadata": {
    "kernel": "Python 3"
   },
   "source": [
    "### About Data"
   ]
  },
  {
   "cell_type": "markdown",
   "metadata": {
    "kernel": "Python 3"
   },
   "source": [
    "We have New York Times Hardcover Fictions best sellers data from June 7,2008 to July 22,2018\n",
    "\n",
    "Collected data includes the book title, author, the date of the best seller list, the published date of the list, the book description, the rank (this week and last week), the publisher, number of weeks on the list, and the price."
   ]
  },
  {
   "cell_type": "code",
   "execution_count": 1,
   "metadata": {
    "kernel": "Bash"
   },
   "outputs": [],
   "source": [
    "datadir=~/data\n",
    "\n",
    "mkdir -p $datadir/bestseller"
   ]
  },
  {
   "cell_type": "code",
   "execution_count": 2,
   "metadata": {
    "kernel": "Bash"
   },
   "outputs": [
    {
     "name": "stdout",
     "output_type": "stream",
     "text": [
      "\u001b[0m\u001b[01;34mbestseller\u001b[0m  \u001b[01;34mcomtrade_s1\u001b[0m  \u001b[01;34mhe_sisli\u001b[0m  \u001b[01;34mimdb\u001b[0m  \u001b[01;34mncdc\u001b[0m  \u001b[01;34mngrams\u001b[0m  \u001b[01;31mworld-1.0.tar.gz\u001b[0m\n"
     ]
    }
   ],
   "source": [
    "ls $datadir"
   ]
  },
  {
   "cell_type": "code",
   "execution_count": 3,
   "metadata": {
    "kernel": "Bash"
   },
   "outputs": [
    {
     "name": "stdout",
     "output_type": "stream",
     "text": [
      "--2020-01-01 20:16:26--  https://github.com/oguzkirazdiken/oguz.kirazdiken/raw/master/nyt2.json\n",
      "Resolving github.com (github.com)... 140.82.118.3\n",
      "Connecting to github.com (github.com)|140.82.118.3|:443... connected.\n",
      "HTTP request sent, awaiting response... 302 Found\n",
      "Location: https://raw.githubusercontent.com/oguzkirazdiken/oguz.kirazdiken/master/nyt2.json [following]\n",
      "--2020-01-01 20:16:27--  https://raw.githubusercontent.com/oguzkirazdiken/oguz.kirazdiken/master/nyt2.json\n",
      "Resolving raw.githubusercontent.com (raw.githubusercontent.com)... 151.101.128.133, 151.101.192.133, 151.101.0.133, ...\n",
      "Connecting to raw.githubusercontent.com (raw.githubusercontent.com)|151.101.128.133|:443... connected.\n",
      "HTTP request sent, awaiting response... 200 OK\n",
      "Length: 6046096 (5.8M) [text/plain]\n",
      "Saving to: ‘/home/jovyan/data/bestseller/nyt2.json’\n",
      "\n",
      "nyt2.json           100%[===================>]   5.77M  31.7MB/s    in 0.2s    \n",
      "\n",
      "2020-01-01 20:16:28 (31.7 MB/s) - ‘/home/jovyan/data/bestseller/nyt2.json’ saved [6046096/6046096]\n",
      "\n"
     ]
    }
   ],
   "source": [
    "wget https://github.com/oguzkirazdiken/oguz.kirazdiken/raw/master/nyt2.json -P $datadir/bestseller/"
   ]
  },
  {
   "cell_type": "code",
   "execution_count": 4,
   "metadata": {
    "kernel": "Bash",
    "scrolled": true
   },
   "outputs": [
    {
     "name": "stdout",
     "output_type": "stream",
     "text": [
      "nyt2.json\n"
     ]
    }
   ],
   "source": [
    "ls $datadir/bestseller"
   ]
  },
  {
   "cell_type": "markdown",
   "metadata": {
    "kernel": "Bash"
   },
   "source": [
    "### Stephen Kings Bestseller Books"
   ]
  },
  {
   "cell_type": "markdown",
   "metadata": {
    "kernel": "Bash"
   },
   "source": [
    "Our aim to find Stephen Kings New York Times bestseller books and publisher information"
   ]
  },
  {
   "cell_type": "code",
   "execution_count": 5,
   "metadata": {
    "kernel": "Bash"
   },
   "outputs": [
    {
     "name": "stdout",
     "output_type": "stream",
     "text": [
      "Stephen King  JUST AFTER SUNSET             Scribner\n",
      "Stephen King  UNDER THE DOME, PART 1        Scribner\n",
      "Stephen King  BLOCKADE BILLY                Simon & Schuster\n",
      "Stephen King  BLOCKADE BILLY                Scribner\n",
      "Stephen King  FULL DARK, NO STARS           Scribner\n",
      "Stephen King  11/22/63                      Scribner\n",
      "Stephen King  THE WIND THROUGH THE KEYHOLE  Scribner\n",
      "Stephen King  11/22/63                      Scribner\n",
      "Stephen King  THE WIND THROUGH THE KEYHOLE  Scribner\n",
      "Stephen King  DOCTOR SLEEP                  Scribner\n",
      "Stephen King  MR. MERCEDES                  Scribner\n",
      "Stephen King  REVIVAL                       Scribner\n",
      "Stephen King  FINDERS KEEPERS               Scribner\n",
      "Stephen King  THE BAZAAR OF BAD DREAMS      Scribner\n",
      "Stephen King  END OF WATCH                  Scribner\n",
      "Stephen King  THE OUTSIDER                  Scribner\n"
     ]
    }
   ],
   "source": [
    "jq -r '. | select(.author == \"Stephen King\") | .author + \"\\t\" + .title + \"\\t\" + .publisher  ' \\\n",
    "$datadir/bestseller/nyt2.json | \\\n",
    "column -s $'\\t' -t | uniq"
   ]
  },
  {
   "cell_type": "markdown",
   "metadata": {
    "kernel": "Bash"
   },
   "source": [
    "## Question 3"
   ]
  },
  {
   "cell_type": "markdown",
   "metadata": {
    "kernel": "Bash"
   },
   "source": [
    "Our website Proballers gives basketball stat information about all players in NBA history. Our aim is to find some legendary players average points and rebounds."
   ]
  },
  {
   "cell_type": "code",
   "execution_count": 1,
   "metadata": {
    "kernel": "Bash"
   },
   "outputs": [],
   "source": [
    "datadir=~/data\n",
    "\n",
    "mkdir -p $datadir/nba"
   ]
  },
  {
   "cell_type": "code",
   "execution_count": 2,
   "metadata": {
    "kernel": "Bash"
   },
   "outputs": [
    {
     "name": "stdout",
     "output_type": "stream",
     "text": [
      "--2020-01-04 10:19:55--  https://www.proballers.com/basketball/player/2765/michael-jordan\n",
      "Resolving www.proballers.com (www.proballers.com)... 154.50.0.219\n",
      "Connecting to www.proballers.com (www.proballers.com)|154.50.0.219|:443... connected.\n",
      "HTTP request sent, awaiting response... 200 OK\n",
      "Length: unspecified [text/html]\n",
      "Saving to: ‘/home/jovyan/data/nba/michael-jordan.html’\n",
      "\n",
      "michael-jordan.html     [ <=>                ]  93.72K  --.-KB/s    in 0.08s   \n",
      "\n",
      "2020-01-04 10:19:55 (1.14 MB/s) - ‘/home/jovyan/data/nba/michael-jordan.html’ saved [95972]\n",
      "\n",
      "--2020-01-04 10:19:55--  https://www.proballers.com/basketball/player/2008/allen-iverson\n",
      "Resolving www.proballers.com (www.proballers.com)... 154.50.0.219\n",
      "Connecting to www.proballers.com (www.proballers.com)|154.50.0.219|:443... connected.\n",
      "HTTP request sent, awaiting response... 200 OK\n",
      "Length: unspecified [text/html]\n",
      "Saving to: ‘/home/jovyan/data/nba/allen-iverson.html’\n",
      "\n",
      "allen-iverson.html      [ <=>                ]  93.38K  --.-KB/s    in 0.08s   \n",
      "\n",
      "2020-01-04 10:19:56 (1.13 MB/s) - ‘/home/jovyan/data/nba/allen-iverson.html’ saved [95616]\n",
      "\n",
      "--2020-01-04 10:19:56--  https://www.proballers.com/basketball/player/5002/kareem-abdul-jabbar\n",
      "Resolving www.proballers.com (www.proballers.com)... 154.50.0.219\n",
      "Connecting to www.proballers.com (www.proballers.com)|154.50.0.219|:443... connected.\n",
      "HTTP request sent, awaiting response... 200 OK\n",
      "Length: unspecified [text/html]\n",
      "Saving to: ‘/home/jovyan/data/nba/kareem-abdul-jabbar.html’\n",
      "\n",
      "kareem-abdul-jabbar     [ <=>                ]  77.26K  --.-KB/s    in 0.09s   \n",
      "\n",
      "2020-01-04 10:19:56 (894 KB/s) - ‘/home/jovyan/data/nba/kareem-abdul-jabbar.html’ saved [79115]\n",
      "\n",
      "--2020-01-04 10:19:56--  https://www.proballers.com/basketball/player/2210/karl-malone\n",
      "Resolving www.proballers.com (www.proballers.com)... 154.50.0.219\n",
      "Connecting to www.proballers.com (www.proballers.com)|154.50.0.219|:443... connected.\n",
      "HTTP request sent, awaiting response... 200 OK\n",
      "Length: unspecified [text/html]\n",
      "Saving to: ‘/home/jovyan/data/nba/karl-malone.html’\n",
      "\n",
      "karl-malone.html        [ <=>                ] 106.10K  --.-KB/s    in 0.08s   \n",
      "\n",
      "2020-01-04 10:19:57 (1.28 MB/s) - ‘/home/jovyan/data/nba/karl-malone.html’ saved [108644]\n",
      "\n",
      "--2020-01-04 10:19:57--  https://www.proballers.com/basketball/player/2227/kobe-bryant\n",
      "Resolving www.proballers.com (www.proballers.com)... 154.50.0.219\n",
      "Connecting to www.proballers.com (www.proballers.com)|154.50.0.219|:443... connected.\n",
      "HTTP request sent, awaiting response... 200 OK\n",
      "Length: unspecified [text/html]\n",
      "Saving to: ‘/home/jovyan/data/nba/kobe-bryant.html’\n",
      "\n",
      "kobe-bryant.html        [ <=>                ] 111.15K  --.-KB/s    in 0.09s   \n",
      "\n",
      "2020-01-04 10:19:57 (1.26 MB/s) - ‘/home/jovyan/data/nba/kobe-bryant.html’ saved [113822]\n",
      "\n",
      "--2020-01-04 10:19:57--  https://www.proballers.com/basketball/player/2327/shaquille-o-neal\n",
      "Resolving www.proballers.com (www.proballers.com)... 154.50.0.219\n",
      "Connecting to www.proballers.com (www.proballers.com)|154.50.0.219|:443... connected.\n",
      "HTTP request sent, awaiting response... 200 OK\n",
      "Length: unspecified [text/html]\n",
      "Saving to: ‘/home/jovyan/data/nba/shaquille-o-neal.html’\n",
      "\n",
      "shaquille-o-neal.ht     [ <=>                ] 104.49K  --.-KB/s    in 0.1s    \n",
      "\n",
      "2020-01-04 10:19:58 (788 KB/s) - ‘/home/jovyan/data/nba/shaquille-o-neal.html’ saved [106994]\n",
      "\n",
      "--2020-01-04 10:19:58--  https://www.proballers.com/basketball/player/2712/wilt-chamberlain\n",
      "Resolving www.proballers.com (www.proballers.com)... 154.50.0.219\n",
      "Connecting to www.proballers.com (www.proballers.com)|154.50.0.219|:443... connected.\n",
      "HTTP request sent, awaiting response... 200 OK\n",
      "Length: unspecified [text/html]\n",
      "Saving to: ‘/home/jovyan/data/nba/wilt-chamberlain.html’\n",
      "\n",
      "wilt-chamberlain.ht     [ <=>                ]  86.24K  --.-KB/s    in 0.09s   \n",
      "\n",
      "2020-01-04 10:19:58 (993 KB/s) - ‘/home/jovyan/data/nba/wilt-chamberlain.html’ saved [88307]\n",
      "\n",
      "--2020-01-04 10:19:58--  https://www.proballers.com/basketball/player/17825/lebron-james\n",
      "Resolving www.proballers.com (www.proballers.com)... 154.50.0.219\n",
      "Connecting to www.proballers.com (www.proballers.com)|154.50.0.219|:443... connected.\n",
      "HTTP request sent, awaiting response... 200 OK\n",
      "Length: unspecified [text/html]\n",
      "Saving to: ‘/home/jovyan/data/nba/lebron-james.html’\n",
      "\n",
      "lebron-james.html       [ <=>                ] 108.20K  --.-KB/s    in 0.1s    \n",
      "\n",
      "2020-01-04 10:19:58 (910 KB/s) - ‘/home/jovyan/data/nba/lebron-james.html’ saved [110799]\n",
      "\n"
     ]
    }
   ],
   "source": [
    "wget --html-extension https://www.proballers.com/basketball/player/2765/michael-jordan -P $datadir/nba/\n",
    "\n",
    "wget --html-extension https://www.proballers.com/basketball/player/2008/allen-iverson -P $datadir/nba/\n",
    "\n",
    "wget --html-extension https://www.proballers.com/basketball/player/5002/kareem-abdul-jabbar -P $datadir/nba/\n",
    "\n",
    "wget --html-extension https://www.proballers.com/basketball/player/2210/karl-malone -P $datadir/nba/\n",
    "\n",
    "wget --html-extension https://www.proballers.com/basketball/player/2227/kobe-bryant -P $datadir/nba/\n",
    "\n",
    "wget --html-extension https://www.proballers.com/basketball/player/2327/shaquille-o-neal -P $datadir/nba/\n",
    "\n",
    "wget --html-extension https://www.proballers.com/basketball/player/2712/wilt-chamberlain -P $datadir/nba/\n",
    "\n",
    "wget --html-extension https://www.proballers.com/basketball/player/17825/lebron-james -P $datadir/nba/\n"
   ]
  },
  {
   "cell_type": "code",
   "execution_count": 3,
   "metadata": {
    "kernel": "Bash"
   },
   "outputs": [
    {
     "name": "stdout",
     "output_type": "stream",
     "text": [
      "allen-iverson.html        kobe-bryant.html     shaquille-o-neal.html\n",
      "kareem-abdul-jabbar.html  lebron-james.html    wilt-chamberlain.html\n",
      "karl-malone.html          michael-jordan.html\n"
     ]
    }
   ],
   "source": [
    "ls $datadir/nba/"
   ]
  },
  {
   "cell_type": "code",
   "execution_count": 15,
   "metadata": {
    "kernel": "Bash"
   },
   "outputs": [
    {
     "name": "stdout",
     "output_type": "stream",
     "text": [
      "**** Retrieving: /home/jovyan/data/nba/allen-iverson.html ****\n",
      "**** Processing: /home/jovyan/data/nba/allen-iverson.html ****\n",
      "**** Retrieving: /home/jovyan/data/nba/kareem-abdul-jabbar.html ****\n",
      "**** Processing: /home/jovyan/data/nba/kareem-abdul-jabbar.html ****\n",
      "**** Retrieving: /home/jovyan/data/nba/karl-malone.html ****\n",
      "**** Processing: /home/jovyan/data/nba/karl-malone.html ****\n",
      "**** Retrieving: /home/jovyan/data/nba/kobe-bryant.html ****\n",
      "**** Processing: /home/jovyan/data/nba/kobe-bryant.html ****\n",
      "**** Retrieving: /home/jovyan/data/nba/lebron-james.html ****\n",
      "**** Processing: /home/jovyan/data/nba/lebron-james.html ****\n",
      "**** Retrieving: /home/jovyan/data/nba/michael-jordan.html ****\n",
      "**** Processing: /home/jovyan/data/nba/michael-jordan.html ****\n",
      "**** Retrieving: /home/jovyan/data/nba/shaquille-o-neal.html ****\n",
      "**** Processing: /home/jovyan/data/nba/shaquille-o-neal.html ****\n",
      "**** Retrieving: /home/jovyan/data/nba/wilt-chamberlain.html ****\n",
      "**** Processing: /home/jovyan/data/nba/wilt-chamberlain.html ****\n"
     ]
    }
   ],
   "source": [
    "legends=$(for i in $datadir/nba/*; do \\\n",
    "xidel --input-format html --output-format adhoc -e \\\n",
    "\"/html/body/main/div/div[3]/div[1]/div/div/div[1]/div/div[2]/h3\" \\\n",
    "$i; done)"
   ]
  },
  {
   "cell_type": "markdown",
   "metadata": {
    "kernel": "Bash"
   },
   "source": [
    "Our legendary players' list can be seen below"
   ]
  },
  {
   "cell_type": "code",
   "execution_count": 16,
   "metadata": {
    "kernel": "Bash",
    "scrolled": false
   },
   "outputs": [
    {
     "name": "stdout",
     "output_type": "stream",
     "text": [
      "Allen Iverson\n",
      "Kareem Abdul-Jabbar\n",
      "Karl Malone\n",
      "Kobe Bryant\n",
      "Lebron James\n",
      "Michael Jordan\n",
      "Shaquille O'neal\n",
      "Wilt Chamberlain\n"
     ]
    }
   ],
   "source": [
    "echo \"$legends\""
   ]
  },
  {
   "cell_type": "code",
   "execution_count": 13,
   "metadata": {
    "kernel": "Bash"
   },
   "outputs": [
    {
     "name": "stdout",
     "output_type": "stream",
     "text": [
      "**** Retrieving: /home/jovyan/data/nba/allen-iverson.html ****\n",
      "**** Processing: /home/jovyan/data/nba/allen-iverson.html ****\n",
      "**** Retrieving: /home/jovyan/data/nba/kareem-abdul-jabbar.html ****\n",
      "**** Processing: /home/jovyan/data/nba/kareem-abdul-jabbar.html ****\n",
      "**** Retrieving: /home/jovyan/data/nba/karl-malone.html ****\n",
      "**** Processing: /home/jovyan/data/nba/karl-malone.html ****\n",
      "**** Retrieving: /home/jovyan/data/nba/kobe-bryant.html ****\n",
      "**** Processing: /home/jovyan/data/nba/kobe-bryant.html ****\n",
      "**** Retrieving: /home/jovyan/data/nba/lebron-james.html ****\n",
      "**** Processing: /home/jovyan/data/nba/lebron-james.html ****\n",
      "**** Retrieving: /home/jovyan/data/nba/michael-jordan.html ****\n",
      "**** Processing: /home/jovyan/data/nba/michael-jordan.html ****\n",
      "**** Retrieving: /home/jovyan/data/nba/shaquille-o-neal.html ****\n",
      "**** Processing: /home/jovyan/data/nba/shaquille-o-neal.html ****\n",
      "**** Retrieving: /home/jovyan/data/nba/wilt-chamberlain.html ****\n",
      "**** Processing: /home/jovyan/data/nba/wilt-chamberlain.html ****\n"
     ]
    }
   ],
   "source": [
    "average_scores=$(for i in $datadir/nba/*; do \\\n",
    "xidel --input-format html --output-format adhoc -e \\\n",
    "\"/html/body/main/div/div[3]/div[1]/div/div/div[2]/div/ul/li[1]/p[2]\" \\\n",
    "$i; done)"
   ]
  },
  {
   "cell_type": "markdown",
   "metadata": {
    "kernel": "Bash"
   },
   "source": [
    "Here we can see these legendary players average scores per match with same order."
   ]
  },
  {
   "cell_type": "code",
   "execution_count": 18,
   "metadata": {
    "kernel": "Bash",
    "scrolled": false
   },
   "outputs": [
    {
     "name": "stdout",
     "output_type": "stream",
     "text": [
      "14.3\n",
      "10.1\n",
      "13.2\n",
      "17.6\n",
      "25.1\n",
      "20.0\n",
      "9.2\n",
      "13.2\n"
     ]
    }
   ],
   "source": [
    "echo \"$average_scores\""
   ]
  },
  {
   "cell_type": "code",
   "execution_count": 19,
   "metadata": {
    "kernel": "Bash"
   },
   "outputs": [
    {
     "name": "stdout",
     "output_type": "stream",
     "text": [
      "**** Retrieving: /home/jovyan/data/nba/allen-iverson.html ****\n",
      "**** Processing: /home/jovyan/data/nba/allen-iverson.html ****\n",
      "**** Retrieving: /home/jovyan/data/nba/kareem-abdul-jabbar.html ****\n",
      "**** Processing: /home/jovyan/data/nba/kareem-abdul-jabbar.html ****\n",
      "**** Retrieving: /home/jovyan/data/nba/karl-malone.html ****\n",
      "**** Processing: /home/jovyan/data/nba/karl-malone.html ****\n",
      "**** Retrieving: /home/jovyan/data/nba/kobe-bryant.html ****\n",
      "**** Processing: /home/jovyan/data/nba/kobe-bryant.html ****\n",
      "**** Retrieving: /home/jovyan/data/nba/lebron-james.html ****\n",
      "**** Processing: /home/jovyan/data/nba/lebron-james.html ****\n",
      "**** Retrieving: /home/jovyan/data/nba/michael-jordan.html ****\n",
      "**** Processing: /home/jovyan/data/nba/michael-jordan.html ****\n",
      "**** Retrieving: /home/jovyan/data/nba/shaquille-o-neal.html ****\n",
      "**** Processing: /home/jovyan/data/nba/shaquille-o-neal.html ****\n",
      "**** Retrieving: /home/jovyan/data/nba/wilt-chamberlain.html ****\n",
      "**** Processing: /home/jovyan/data/nba/wilt-chamberlain.html ****\n"
     ]
    }
   ],
   "source": [
    "average_rebounds=$(for i in $datadir/nba/*; do \\\n",
    "xidel --input-format html --output-format adhoc -e \\\n",
    "\"/html/body/main/div/div[3]/div[1]/div/div/div[2]/div/ul/li[2]/p[2]\" \\\n",
    "$i; done)"
   ]
  },
  {
   "cell_type": "markdown",
   "metadata": {
    "kernel": "Bash"
   },
   "source": [
    "And also, we can see here these players average rebounds per match with same order"
   ]
  },
  {
   "cell_type": "code",
   "execution_count": 20,
   "metadata": {
    "kernel": "Bash",
    "scrolled": true
   },
   "outputs": [
    {
     "name": "stdout",
     "output_type": "stream",
     "text": [
      "2.7\n",
      "4.5\n",
      "8.7\n",
      "3.7\n",
      "7.6\n",
      "6.1\n",
      "4.8\n",
      "18.6\n"
     ]
    }
   ],
   "source": [
    "echo \"$average_rebounds\""
   ]
  },
  {
   "cell_type": "markdown",
   "metadata": {
    "kernel": "Bash"
   },
   "source": [
    "## Question 5"
   ]
  },
  {
   "cell_type": "markdown",
   "metadata": {
    "kernel": "Bash"
   },
   "source": [
    "### About Dataset"
   ]
  },
  {
   "cell_type": "markdown",
   "metadata": {
    "kernel": "Bash"
   },
   "source": [
    "Our dataset contains all information about Shakespeare's plays like;\n",
    "    \n",
    "- Which characters are involved in a play and character names\n",
    "    \n",
    "- How many times a character speak in a play.\n",
    "    \n",
    "- Paragraph information in each play and their chapter,section\n",
    "    \n",
    "- How many times a word occured in all plays\n",
    "    "
   ]
  },
  {
   "cell_type": "code",
   "execution_count": 1,
   "metadata": {
    "kernel": "Bash"
   },
   "outputs": [
    {
     "name": "stdout",
     "output_type": "stream",
     "text": [
      "Stopping OpenBSD Secure Shell server: sshd.\n",
      "Starting OpenBSD Secure Shell server: sshd.\n"
     ]
    }
   ],
   "source": [
    "sudo service ssh stop\n",
    "sudo service ssh start"
   ]
  },
  {
   "cell_type": "code",
   "execution_count": 2,
   "metadata": {
    "kernel": "Bash"
   },
   "outputs": [
    {
     "name": "stdout",
     "output_type": "stream",
     "text": [
      "Starting namenodes on [localhost]\n",
      "localhost: starting namenode, logging to /opt/hadoop-2.9.2/logs/hadoop-jovyan-namenode-jupyter-serhatcevikel-2dbdm-5f2019-2dj11sg2ih.out\n",
      "localhost: starting datanode, logging to /opt/hadoop-2.9.2/logs/hadoop-jovyan-datanode-jupyter-serhatcevikel-2dbdm-5f2019-2dj11sg2ih.out\n",
      "Starting secondary namenodes [0.0.0.0]\n",
      "0.0.0.0: starting secondarynamenode, logging to /opt/hadoop-2.9.2/logs/hadoop-jovyan-secondarynamenode-jupyter-serhatcevikel-2dbdm-5f2019-2dj11sg2ih.out\n"
     ]
    }
   ],
   "source": [
    "start-dfs.sh 2> /dev/null"
   ]
  },
  {
   "cell_type": "code",
   "execution_count": 3,
   "metadata": {
    "kernel": "Bash"
   },
   "outputs": [
    {
     "name": "stdout",
     "output_type": "stream",
     "text": [
      "starting yarn daemons\n",
      "starting resourcemanager, logging to /opt/hadoop-2.9.2/logs/yarn-root-resourcemanager-jupyter-serhatcevikel-2dbdm-5f2019-2dj11sg2ih.out\n",
      "localhost: starting nodemanager, logging to /opt/hadoop-2.9.2/logs/yarn-jovyan-nodemanager-jupyter-serhatcevikel-2dbdm-5f2019-2dj11sg2ih.out\n"
     ]
    }
   ],
   "source": [
    "start-yarn.sh 2> /dev/null"
   ]
  },
  {
   "cell_type": "code",
   "execution_count": 4,
   "metadata": {
    "kernel": "Bash"
   },
   "outputs": [
    {
     "name": "stdout",
     "output_type": "stream",
     "text": [
      "starting historyserver, logging to /opt/hadoop-2.9.2/logs/mapred-root-historyserver-jupyter-serhatcevikel-2dbdm-5f2019-2dj11sg2ih.out\n"
     ]
    }
   ],
   "source": [
    "mr-jobhistory-daemon.sh --config $HADOOP_CONF_DIR start historyserver 2> /dev/null"
   ]
  },
  {
   "cell_type": "code",
   "execution_count": 5,
   "metadata": {
    "kernel": "Bash"
   },
   "outputs": [
    {
     "name": "stdout",
     "output_type": "stream",
     "text": [
      "Safe mode is OFF\n"
     ]
    }
   ],
   "source": [
    "hdfs dfsadmin -safemode leave 2> /dev/null"
   ]
  },
  {
   "cell_type": "code",
   "execution_count": 6,
   "metadata": {
    "kernel": "Bash"
   },
   "outputs": [
    {
     "name": "stdout",
     "output_type": "stream",
     "text": [
      "Starting PostgreSQL 11 database server: main.\n"
     ]
    }
   ],
   "source": [
    "sudo service postgresql start"
   ]
  },
  {
   "cell_type": "code",
   "execution_count": 7,
   "metadata": {
    "kernel": "Bash"
   },
   "outputs": [],
   "source": [
    "datadir=~/data\n",
    "\n",
    "mkdir -p $datadir/shakespeare"
   ]
  },
  {
   "cell_type": "code",
   "execution_count": 8,
   "metadata": {
    "kernel": "Bash"
   },
   "outputs": [
    {
     "name": "stdout",
     "output_type": "stream",
     "text": [
      "\u001b[0m\u001b[01;34mcomtrade_s1\u001b[0m  \u001b[01;34mhe_sisli\u001b[0m  \u001b[01;34mimdb\u001b[0m  \u001b[01;34mncdc\u001b[0m  \u001b[01;34mngrams\u001b[0m  \u001b[01;34mshakespeare\u001b[0m  \u001b[01;31mworld-1.0.tar.gz\u001b[0m\n"
     ]
    }
   ],
   "source": [
    "ls $datadir"
   ]
  },
  {
   "cell_type": "code",
   "execution_count": 9,
   "metadata": {
    "kernel": "Bash"
   },
   "outputs": [
    {
     "name": "stdout",
     "output_type": "stream",
     "text": [
      "--2020-01-05 15:33:04--  https://github.com/catherinedevlin/opensourceshakespeare/raw/master/shakespeare.sql\n",
      "Resolving github.com (github.com)... 140.82.118.3\n",
      "Connecting to github.com (github.com)|140.82.118.3|:443... connected.\n",
      "HTTP request sent, awaiting response... 302 Found\n",
      "Location: https://raw.githubusercontent.com/catherinedevlin/opensourceshakespeare/master/shakespeare.sql [following]\n",
      "--2020-01-05 15:33:05--  https://raw.githubusercontent.com/catherinedevlin/opensourceshakespeare/master/shakespeare.sql\n",
      "Resolving raw.githubusercontent.com (raw.githubusercontent.com)... 151.101.64.133, 151.101.0.133, 151.101.192.133, ...\n",
      "Connecting to raw.githubusercontent.com (raw.githubusercontent.com)|151.101.64.133|:443... connected.\n",
      "HTTP request sent, awaiting response... 200 OK\n",
      "Length: 15049064 (14M) [text/plain]\n",
      "Saving to: ‘/home/jovyan/data/shakespeare/shakespeare.sql’\n",
      "\n",
      "shakespeare.sql     100%[===================>]  14.35M  32.1MB/s    in 0.4s    \n",
      "\n",
      "2020-01-05 15:33:06 (32.1 MB/s) - ‘/home/jovyan/data/shakespeare/shakespeare.sql’ saved [15049064/15049064]\n",
      "\n"
     ]
    }
   ],
   "source": [
    "wget https://github.com/catherinedevlin/opensourceshakespeare/raw/master/shakespeare.sql -P $datadir/shakespeare/"
   ]
  },
  {
   "cell_type": "code",
   "execution_count": 29,
   "metadata": {
    "kernel": "Bash"
   },
   "outputs": [
    {
     "name": "stdout",
     "output_type": "stream",
     "text": [
      "shakespeare.sql\n"
     ]
    }
   ],
   "source": [
    "ls $datadir/shakespeare/"
   ]
  },
  {
   "cell_type": "code",
   "execution_count": 11,
   "metadata": {
    "kernel": "Bash"
   },
   "outputs": [],
   "source": [
    "createdb -U postgres shakespeare"
   ]
  },
  {
   "cell_type": "code",
   "execution_count": 12,
   "metadata": {
    "kernel": "Bash",
    "scrolled": false
   },
   "outputs": [
    {
     "name": "stdout",
     "output_type": "stream",
     "text": [
      "                               List of databases\n",
      "    Name     |  Owner   | Encoding | Collate |  Ctype  |   Access privileges   \n",
      "-------------+----------+----------+---------+---------+-----------------------\n",
      " imdb2       | postgres | UTF8     | C.UTF-8 | C.UTF-8 | \n",
      " postgres    | postgres | UTF8     | C.UTF-8 | C.UTF-8 | \n",
      " shakespeare | postgres | UTF8     | C.UTF-8 | C.UTF-8 | \n",
      " template0   | postgres | UTF8     | C.UTF-8 | C.UTF-8 | =c/postgres          +\n",
      "             |          |          |         |         | postgres=CTc/postgres\n",
      " template1   | postgres | UTF8     | C.UTF-8 | C.UTF-8 | =c/postgres          +\n",
      "             |          |          |         |         | postgres=CTc/postgres\n",
      " world       | postgres | UTF8     | C.UTF-8 | C.UTF-8 | \n",
      "(6 rows)\n",
      "\n"
     ]
    }
   ],
   "source": [
    "psql -U postgres -c \"\\l\""
   ]
  },
  {
   "cell_type": "code",
   "execution_count": 13,
   "metadata": {
    "kernel": "Bash"
   },
   "outputs": [
    {
     "name": "stdout",
     "output_type": "stream",
     "text": [
      "SET\n",
      "SET\n",
      "SET\n",
      "SET\n",
      "SET\n",
      "SET\n",
      "CREATE EXTENSION\n",
      "COMMENT\n",
      "SET\n",
      "SET\n",
      "SET\n",
      "CREATE TABLE\n",
      "CREATE TABLE\n",
      "CREATE TABLE\n",
      "CREATE TABLE\n",
      "CREATE TABLE\n",
      "CREATE TABLE\n",
      "COPY 945\n",
      "COPY 1266\n",
      "COPY 1346\n",
      "COPY 35465\n",
      "COPY 28830\n",
      "COPY 43\n",
      "ALTER TABLE\n",
      "ALTER TABLE\n",
      "ALTER TABLE\n",
      "ALTER TABLE\n",
      "ALTER TABLE\n",
      "ALTER TABLE\n",
      "ALTER TABLE\n",
      "ALTER TABLE\n",
      "ALTER TABLE\n",
      "ALTER TABLE\n",
      "ALTER TABLE\n",
      "REVOKE\n",
      "REVOKE\n",
      "GRANT\n",
      "GRANT\n"
     ]
    }
   ],
   "source": [
    "psql -U postgres shakespeare  < $datadir/shakespeare/shakespeare.sql"
   ]
  },
  {
   "cell_type": "code",
   "execution_count": 16,
   "metadata": {
    "kernel": "Python 3"
   },
   "outputs": [
    {
     "name": "stdout",
     "output_type": "stream",
     "text": [
      "The sql extension is already loaded. To reload it, use:\n",
      "  %reload_ext sql\n"
     ]
    }
   ],
   "source": [
    "%load_ext sql"
   ]
  },
  {
   "cell_type": "code",
   "execution_count": 17,
   "metadata": {
    "kernel": "Python 3"
   },
   "outputs": [
    {
     "data": {
      "text/plain": [
       "'Connected: postgres@shakespeare'"
      ]
     },
     "execution_count": 17,
     "metadata": {},
     "output_type": "execute_result"
    }
   ],
   "source": [
    "%sql postgres://postgres@localhost/shakespeare"
   ]
  },
  {
   "cell_type": "code",
   "execution_count": 19,
   "metadata": {
    "kernel": "Bash"
   },
   "outputs": [
    {
     "name": "stdout",
     "output_type": "stream",
     "text": [
      "                         List of relations\n",
      " Schema |      Name      | Type  |  Owner   |  Size   | Description \n",
      "--------+----------------+-------+----------+---------+-------------\n",
      " public | chapter        | table | postgres | 96 kB   | \n",
      " public | character      | table | postgres | 136 kB  | \n",
      " public | character_work | table | postgres | 96 kB   | \n",
      " public | paragraph      | table | postgres | 15 MB   | \n",
      " public | wordform       | table | postgres | 1760 kB | \n",
      " public | work           | table | postgres | 16 kB   | \n",
      "(6 rows)\n",
      "\n"
     ]
    }
   ],
   "source": [
    "psql -U postgres -d shakespeare -c \"\\dt+\""
   ]
  },
  {
   "cell_type": "code",
   "execution_count": 21,
   "metadata": {
    "kernel": "Python 3",
    "scrolled": true
   },
   "outputs": [
    {
     "name": "stdout",
     "output_type": "stream",
     "text": [
      " * postgres://postgres@localhost/shakespeare\n",
      "5 rows affected.\n"
     ]
    },
    {
     "data": {
      "text/html": [
       "<table>\n",
       "    <tr>\n",
       "        <th>charid</th>\n",
       "        <th>workid</th>\n",
       "    </tr>\n",
       "    <tr>\n",
       "        <td>1apparition-mac</td>\n",
       "        <td>macbeth</td>\n",
       "    </tr>\n",
       "    <tr>\n",
       "        <td>1citizen</td>\n",
       "        <td>romeojuliet</td>\n",
       "    </tr>\n",
       "    <tr>\n",
       "        <td>1conspirator</td>\n",
       "        <td>coriolanus</td>\n",
       "    </tr>\n",
       "    <tr>\n",
       "        <td>1gentleman-oth</td>\n",
       "        <td>othello</td>\n",
       "    </tr>\n",
       "    <tr>\n",
       "        <td>1goth</td>\n",
       "        <td>titus</td>\n",
       "    </tr>\n",
       "</table>"
      ],
      "text/plain": [
       "[('1apparition-mac', 'macbeth'),\n",
       " ('1citizen', 'romeojuliet'),\n",
       " ('1conspirator', 'coriolanus'),\n",
       " ('1gentleman-oth', 'othello'),\n",
       " ('1goth', 'titus')]"
      ]
     },
     "execution_count": 21,
     "metadata": {},
     "output_type": "execute_result"
    }
   ],
   "source": [
    "%%sql\n",
    "\n",
    "SELECT *\n",
    "FROM character_work\n",
    "LIMIT 5 ;"
   ]
  },
  {
   "cell_type": "code",
   "execution_count": 17,
   "metadata": {
    "kernel": "Python 3"
   },
   "outputs": [
    {
     "name": "stdout",
     "output_type": "stream",
     "text": [
      " * postgres://postgres@localhost/shakespeare\n",
      "5 rows affected.\n"
     ]
    },
    {
     "data": {
      "text/html": [
       "<table>\n",
       "    <tr>\n",
       "        <th>workid</th>\n",
       "        <th>title</th>\n",
       "        <th>longtitle</th>\n",
       "        <th>year</th>\n",
       "        <th>genretype</th>\n",
       "        <th>notes</th>\n",
       "        <th>source</th>\n",
       "        <th>totalwords</th>\n",
       "        <th>totalparagraphs</th>\n",
       "    </tr>\n",
       "    <tr>\n",
       "        <td>12night</td>\n",
       "        <td>Twelfth Night</td>\n",
       "        <td>Twelfth Night, Or What You Will</td>\n",
       "        <td>1599</td>\n",
       "        <td>c</td>\n",
       "        <td>None</td>\n",
       "        <td>Moby</td>\n",
       "        <td>19837</td>\n",
       "        <td>1031</td>\n",
       "    </tr>\n",
       "    <tr>\n",
       "        <td>allswell</td>\n",
       "        <td>All&#x27;s Well That Ends Well</td>\n",
       "        <td>All&#x27;s Well That Ends Well</td>\n",
       "        <td>1602</td>\n",
       "        <td>c</td>\n",
       "        <td>None</td>\n",
       "        <td>Moby</td>\n",
       "        <td>22997</td>\n",
       "        <td>1025</td>\n",
       "    </tr>\n",
       "    <tr>\n",
       "        <td>antonycleo</td>\n",
       "        <td>Antony and Cleopatra</td>\n",
       "        <td>Antony and Cleopatra</td>\n",
       "        <td>1606</td>\n",
       "        <td>t</td>\n",
       "        <td>None</td>\n",
       "        <td>Moby</td>\n",
       "        <td>24905</td>\n",
       "        <td>1344</td>\n",
       "    </tr>\n",
       "    <tr>\n",
       "        <td>asyoulikeit</td>\n",
       "        <td>As You Like It</td>\n",
       "        <td>As You Like It</td>\n",
       "        <td>1599</td>\n",
       "        <td>c</td>\n",
       "        <td>None</td>\n",
       "        <td>Gutenberg</td>\n",
       "        <td>21690</td>\n",
       "        <td>872</td>\n",
       "    </tr>\n",
       "    <tr>\n",
       "        <td>comedyerrors</td>\n",
       "        <td>Comedy of Errors</td>\n",
       "        <td>The Comedy of Errors</td>\n",
       "        <td>1589</td>\n",
       "        <td>c</td>\n",
       "        <td>None</td>\n",
       "        <td>Moby</td>\n",
       "        <td>14692</td>\n",
       "        <td>661</td>\n",
       "    </tr>\n",
       "</table>"
      ],
      "text/plain": [
       "[('12night', 'Twelfth Night', 'Twelfth Night, Or What You Will', 1599, 'c', None, 'Moby', 19837, 1031),\n",
       " ('allswell', \"All's Well That Ends Well\", \"All's Well That Ends Well\", 1602, 'c', None, 'Moby', 22997, 1025),\n",
       " ('antonycleo', 'Antony and Cleopatra', 'Antony and Cleopatra', 1606, 't', None, 'Moby', 24905, 1344),\n",
       " ('asyoulikeit', 'As You Like It', 'As You Like It', 1599, 'c', None, 'Gutenberg', 21690, 872),\n",
       " ('comedyerrors', 'Comedy of Errors', 'The Comedy of Errors', 1589, 'c', None, 'Moby', 14692, 661)]"
      ]
     },
     "execution_count": 17,
     "metadata": {},
     "output_type": "execute_result"
    }
   ],
   "source": [
    "%%sql\n",
    "\n",
    "SELECT *\n",
    "FROM work\n",
    "LIMIT 5 ;"
   ]
  },
  {
   "cell_type": "code",
   "execution_count": 22,
   "metadata": {
    "kernel": "Bash"
   },
   "outputs": [
    {
     "name": "stdout",
     "output_type": "stream",
     "text": [
      "[1] 1369\n"
     ]
    }
   ],
   "source": [
    "hive --service metastore &"
   ]
  },
  {
   "cell_type": "code",
   "execution_count": 23,
   "metadata": {
    "kernel": "Bash",
    "scrolled": true
   },
   "outputs": [
    {
     "name": "stdout",
     "output_type": "stream",
     "text": [
      "2020-01-05 15:35:55: Starting Hive Metastore Server\n",
      "SLF4J: Class path contains multiple SLF4J bindings.\n",
      "SLF4J: Found binding in [jar:file:/opt/hive/lib/log4j-slf4j-impl-2.6.2.jar!/org/slf4j/impl/StaticLoggerBinder.class]\n",
      "SLF4J: Found binding in [jar:file:/opt/hadoop-2.9.2/share/hadoop/common/lib/slf4j-log4j12-1.7.25.jar!/org/slf4j/impl/StaticLoggerBinder.class]\n",
      "SLF4J: See http://www.slf4j.org/codes.html#multiple_bindings for an explanation.\n",
      "SLF4J: Actual binding is of type [org.apache.logging.slf4j.Log4jLoggerFactory]\n",
      "SLF4J: Class path contains multiple SLF4J bindings.\n",
      "SLF4J: Found binding in [jar:file:/opt/hive/lib/log4j-slf4j-impl-2.6.2.jar!/org/slf4j/impl/StaticLoggerBinder.class]\n",
      "SLF4J: Found binding in [jar:file:/opt/hadoop-2.9.2/share/hadoop/common/lib/slf4j-log4j12-1.7.25.jar!/org/slf4j/impl/StaticLoggerBinder.class]\n",
      "SLF4J: See http://www.slf4j.org/codes.html#multiple_bindings for an explanation.\n",
      "SLF4J: Actual binding is of type [org.apache.logging.slf4j.Log4jLoggerFactory]\n",
      "\n",
      "Logging initialized using configuration in jar:file:/opt/hive/lib/hive-common-2.3.6.jar!/hive-log4j2.properties Async: true\n",
      "FAILED: SemanticException org.apache.hadoop.hive.ql.metadata.HiveException: java.lang.RuntimeException: Unable to instantiate org.apache.hadoop.hive.ql.metadata.SessionHiveMetaStoreClient\n"
     ]
    },
    {
     "ename": "",
     "evalue": "64",
     "output_type": "error",
     "traceback": []
    }
   ],
   "source": [
    "hive -e \"create database shakespeare\""
   ]
  },
  {
   "cell_type": "code",
   "execution_count": 24,
   "metadata": {
    "kernel": "Bash"
   },
   "outputs": [
    {
     "name": "stdout",
     "output_type": "stream",
     "text": [
      "Warning: /opt/sqoop/../hbase does not exist! HBase imports will fail.\n",
      "Please set $HBASE_HOME to the root of your HBase installation.\n",
      "Warning: /opt/sqoop/../accumulo does not exist! Accumulo imports will fail.\n",
      "Please set $ACCUMULO_HOME to the root of your Accumulo installation.\n",
      "Warning: /opt/sqoop/../zookeeper does not exist! Accumulo imports will fail.\n",
      "Please set $ZOOKEEPER_HOME to the root of your Zookeeper installation.\n",
      "2020-01-05 15:36:53,076 main ERROR Could not register mbeans java.security.AccessControlException: access denied (\"javax.management.MBeanTrustPermission\" \"register\")\n",
      "\tat java.security.AccessControlContext.checkPermission(AccessControlContext.java:472)\n",
      "\tat java.lang.SecurityManager.checkPermission(SecurityManager.java:585)\n",
      "\tat com.sun.jmx.interceptor.DefaultMBeanServerInterceptor.checkMBeanTrustPermission(DefaultMBeanServerInterceptor.java:1848)\n",
      "\tat com.sun.jmx.interceptor.DefaultMBeanServerInterceptor.registerMBean(DefaultMBeanServerInterceptor.java:322)\n",
      "\tat com.sun.jmx.mbeanserver.JmxMBeanServer.registerMBean(JmxMBeanServer.java:522)\n",
      "\tat org.apache.logging.log4j.core.jmx.Server.register(Server.java:380)\n",
      "\tat org.apache.logging.log4j.core.jmx.Server.reregisterMBeansAfterReconfigure(Server.java:165)\n",
      "\tat org.apache.logging.log4j.core.jmx.Server.reregisterMBeansAfterReconfigure(Server.java:138)\n",
      "\tat org.apache.logging.log4j.core.LoggerContext.setConfiguration(LoggerContext.java:507)\n",
      "\tat org.apache.logging.log4j.core.LoggerContext.start(LoggerContext.java:249)\n",
      "\tat org.apache.logging.log4j.core.async.AsyncLoggerContext.start(AsyncLoggerContext.java:86)\n",
      "\tat org.apache.logging.log4j.core.impl.Log4jContextFactory.getContext(Log4jContextFactory.java:239)\n",
      "\tat org.apache.logging.log4j.core.config.Configurator.initialize(Configurator.java:157)\n",
      "\tat org.apache.logging.log4j.core.config.Configurator.initialize(Configurator.java:130)\n",
      "\tat org.apache.logging.log4j.core.config.Configurator.initialize(Configurator.java:100)\n",
      "\tat org.apache.logging.log4j.core.config.Configurator.initialize(Configurator.java:187)\n",
      "\tat org.apache.hadoop.hive.common.LogUtils.initHiveLog4jDefault(LogUtils.java:154)\n",
      "\tat org.apache.hadoop.hive.common.LogUtils.initHiveLog4jCommon(LogUtils.java:90)\n",
      "\tat org.apache.hadoop.hive.common.LogUtils.initHiveLog4jCommon(LogUtils.java:82)\n",
      "\tat org.apache.hadoop.hive.common.LogUtils.initHiveLog4j(LogUtils.java:65)\n",
      "\tat org.apache.hadoop.hive.cli.CliDriver.run(CliDriver.java:702)\n",
      "\tat org.apache.hadoop.hive.cli.CliDriver.main(CliDriver.java:686)\n",
      "\tat sun.reflect.NativeMethodAccessorImpl.invoke0(Native Method)\n",
      "\tat sun.reflect.NativeMethodAccessorImpl.invoke(NativeMethodAccessorImpl.java:62)\n",
      "\tat sun.reflect.DelegatingMethodAccessorImpl.invoke(DelegatingMethodAccessorImpl.java:43)\n",
      "\tat java.lang.reflect.Method.invoke(Method.java:498)\n",
      "\tat org.apache.sqoop.hive.HiveImport.executeScript(HiveImport.java:331)\n",
      "\tat org.apache.sqoop.hive.HiveImport.importTable(HiveImport.java:241)\n",
      "\tat org.apache.sqoop.tool.ImportTool.importTable(ImportTool.java:537)\n",
      "\tat org.apache.sqoop.tool.ImportTool.run(ImportTool.java:628)\n",
      "\tat org.apache.sqoop.Sqoop.run(Sqoop.java:147)\n",
      "\tat org.apache.hadoop.util.ToolRunner.run(ToolRunner.java:76)\n",
      "\tat org.apache.sqoop.Sqoop.runSqoop(Sqoop.java:183)\n",
      "\tat org.apache.sqoop.Sqoop.runTool(Sqoop.java:234)\n",
      "\tat org.apache.sqoop.Sqoop.runTool(Sqoop.java:243)\n",
      "\tat org.apache.sqoop.Sqoop.main(Sqoop.java:252)\n",
      "\n",
      "Warning: /opt/sqoop/../hbase does not exist! HBase imports will fail.\n",
      "Please set $HBASE_HOME to the root of your HBase installation.\n",
      "Warning: /opt/sqoop/../accumulo does not exist! Accumulo imports will fail.\n",
      "Please set $ACCUMULO_HOME to the root of your Accumulo installation.\n",
      "Warning: /opt/sqoop/../zookeeper does not exist! Accumulo imports will fail.\n",
      "Please set $ZOOKEEPER_HOME to the root of your Zookeeper installation.\n",
      "2020-01-05 15:37:12,781 main ERROR Could not register mbeans java.security.AccessControlException: access denied (\"javax.management.MBeanTrustPermission\" \"register\")\n",
      "\tat java.security.AccessControlContext.checkPermission(AccessControlContext.java:472)\n",
      "\tat java.lang.SecurityManager.checkPermission(SecurityManager.java:585)\n",
      "\tat com.sun.jmx.interceptor.DefaultMBeanServerInterceptor.checkMBeanTrustPermission(DefaultMBeanServerInterceptor.java:1848)\n",
      "\tat com.sun.jmx.interceptor.DefaultMBeanServerInterceptor.registerMBean(DefaultMBeanServerInterceptor.java:322)\n",
      "\tat com.sun.jmx.mbeanserver.JmxMBeanServer.registerMBean(JmxMBeanServer.java:522)\n",
      "\tat org.apache.logging.log4j.core.jmx.Server.register(Server.java:380)\n",
      "\tat org.apache.logging.log4j.core.jmx.Server.reregisterMBeansAfterReconfigure(Server.java:165)\n",
      "\tat org.apache.logging.log4j.core.jmx.Server.reregisterMBeansAfterReconfigure(Server.java:138)\n",
      "\tat org.apache.logging.log4j.core.LoggerContext.setConfiguration(LoggerContext.java:507)\n",
      "\tat org.apache.logging.log4j.core.LoggerContext.start(LoggerContext.java:249)\n",
      "\tat org.apache.logging.log4j.core.async.AsyncLoggerContext.start(AsyncLoggerContext.java:86)\n",
      "\tat org.apache.logging.log4j.core.impl.Log4jContextFactory.getContext(Log4jContextFactory.java:239)\n",
      "\tat org.apache.logging.log4j.core.config.Configurator.initialize(Configurator.java:157)\n",
      "\tat org.apache.logging.log4j.core.config.Configurator.initialize(Configurator.java:130)\n",
      "\tat org.apache.logging.log4j.core.config.Configurator.initialize(Configurator.java:100)\n",
      "\tat org.apache.logging.log4j.core.config.Configurator.initialize(Configurator.java:187)\n",
      "\tat org.apache.hadoop.hive.common.LogUtils.initHiveLog4jDefault(LogUtils.java:154)\n",
      "\tat org.apache.hadoop.hive.common.LogUtils.initHiveLog4jCommon(LogUtils.java:90)\n",
      "\tat org.apache.hadoop.hive.common.LogUtils.initHiveLog4jCommon(LogUtils.java:82)\n",
      "\tat org.apache.hadoop.hive.common.LogUtils.initHiveLog4j(LogUtils.java:65)\n",
      "\tat org.apache.hadoop.hive.cli.CliDriver.run(CliDriver.java:702)\n",
      "\tat org.apache.hadoop.hive.cli.CliDriver.main(CliDriver.java:686)\n",
      "\tat sun.reflect.NativeMethodAccessorImpl.invoke0(Native Method)\n",
      "\tat sun.reflect.NativeMethodAccessorImpl.invoke(NativeMethodAccessorImpl.java:62)\n",
      "\tat sun.reflect.DelegatingMethodAccessorImpl.invoke(DelegatingMethodAccessorImpl.java:43)\n",
      "\tat java.lang.reflect.Method.invoke(Method.java:498)\n",
      "\tat org.apache.sqoop.hive.HiveImport.executeScript(HiveImport.java:331)\n",
      "\tat org.apache.sqoop.hive.HiveImport.importTable(HiveImport.java:241)\n",
      "\tat org.apache.sqoop.tool.ImportTool.importTable(ImportTool.java:537)\n",
      "\tat org.apache.sqoop.tool.ImportTool.run(ImportTool.java:628)\n",
      "\tat org.apache.sqoop.Sqoop.run(Sqoop.java:147)\n",
      "\tat org.apache.hadoop.util.ToolRunner.run(ToolRunner.java:76)\n",
      "\tat org.apache.sqoop.Sqoop.runSqoop(Sqoop.java:183)\n",
      "\tat org.apache.sqoop.Sqoop.runTool(Sqoop.java:234)\n",
      "\tat org.apache.sqoop.Sqoop.runTool(Sqoop.java:243)\n",
      "\tat org.apache.sqoop.Sqoop.main(Sqoop.java:252)\n",
      "\n",
      "Warning: /opt/sqoop/../hbase does not exist! HBase imports will fail.\n",
      "Please set $HBASE_HOME to the root of your HBase installation.\n",
      "Warning: /opt/sqoop/../accumulo does not exist! Accumulo imports will fail.\n",
      "Please set $ACCUMULO_HOME to the root of your Accumulo installation.\n",
      "Warning: /opt/sqoop/../zookeeper does not exist! Accumulo imports will fail.\n",
      "Please set $ZOOKEEPER_HOME to the root of your Zookeeper installation.\n",
      "2020-01-05 15:37:31,613 main ERROR Could not register mbeans java.security.AccessControlException: access denied (\"javax.management.MBeanTrustPermission\" \"register\")\n",
      "\tat java.security.AccessControlContext.checkPermission(AccessControlContext.java:472)\n",
      "\tat java.lang.SecurityManager.checkPermission(SecurityManager.java:585)\n",
      "\tat com.sun.jmx.interceptor.DefaultMBeanServerInterceptor.checkMBeanTrustPermission(DefaultMBeanServerInterceptor.java:1848)\n",
      "\tat com.sun.jmx.interceptor.DefaultMBeanServerInterceptor.registerMBean(DefaultMBeanServerInterceptor.java:322)\n",
      "\tat com.sun.jmx.mbeanserver.JmxMBeanServer.registerMBean(JmxMBeanServer.java:522)\n",
      "\tat org.apache.logging.log4j.core.jmx.Server.register(Server.java:380)\n",
      "\tat org.apache.logging.log4j.core.jmx.Server.reregisterMBeansAfterReconfigure(Server.java:165)\n",
      "\tat org.apache.logging.log4j.core.jmx.Server.reregisterMBeansAfterReconfigure(Server.java:138)\n",
      "\tat org.apache.logging.log4j.core.LoggerContext.setConfiguration(LoggerContext.java:507)\n",
      "\tat org.apache.logging.log4j.core.LoggerContext.start(LoggerContext.java:249)\n",
      "\tat org.apache.logging.log4j.core.async.AsyncLoggerContext.start(AsyncLoggerContext.java:86)\n",
      "\tat org.apache.logging.log4j.core.impl.Log4jContextFactory.getContext(Log4jContextFactory.java:239)\n",
      "\tat org.apache.logging.log4j.core.config.Configurator.initialize(Configurator.java:157)\n",
      "\tat org.apache.logging.log4j.core.config.Configurator.initialize(Configurator.java:130)\n",
      "\tat org.apache.logging.log4j.core.config.Configurator.initialize(Configurator.java:100)\n",
      "\tat org.apache.logging.log4j.core.config.Configurator.initialize(Configurator.java:187)\n",
      "\tat org.apache.hadoop.hive.common.LogUtils.initHiveLog4jDefault(LogUtils.java:154)\n",
      "\tat org.apache.hadoop.hive.common.LogUtils.initHiveLog4jCommon(LogUtils.java:90)\n",
      "\tat org.apache.hadoop.hive.common.LogUtils.initHiveLog4jCommon(LogUtils.java:82)\n",
      "\tat org.apache.hadoop.hive.common.LogUtils.initHiveLog4j(LogUtils.java:65)\n",
      "\tat org.apache.hadoop.hive.cli.CliDriver.run(CliDriver.java:702)\n",
      "\tat org.apache.hadoop.hive.cli.CliDriver.main(CliDriver.java:686)\n",
      "\tat sun.reflect.NativeMethodAccessorImpl.invoke0(Native Method)\n",
      "\tat sun.reflect.NativeMethodAccessorImpl.invoke(NativeMethodAccessorImpl.java:62)\n",
      "\tat sun.reflect.DelegatingMethodAccessorImpl.invoke(DelegatingMethodAccessorImpl.java:43)\n",
      "\tat java.lang.reflect.Method.invoke(Method.java:498)\n",
      "\tat org.apache.sqoop.hive.HiveImport.executeScript(HiveImport.java:331)\n",
      "\tat org.apache.sqoop.hive.HiveImport.importTable(HiveImport.java:241)\n",
      "\tat org.apache.sqoop.tool.ImportTool.importTable(ImportTool.java:537)\n",
      "\tat org.apache.sqoop.tool.ImportTool.run(ImportTool.java:628)\n",
      "\tat org.apache.sqoop.Sqoop.run(Sqoop.java:147)\n",
      "\tat org.apache.hadoop.util.ToolRunner.run(ToolRunner.java:76)\n",
      "\tat org.apache.sqoop.Sqoop.runSqoop(Sqoop.java:183)\n",
      "\tat org.apache.sqoop.Sqoop.runTool(Sqoop.java:234)\n",
      "\tat org.apache.sqoop.Sqoop.runTool(Sqoop.java:243)\n",
      "\tat org.apache.sqoop.Sqoop.main(Sqoop.java:252)\n",
      "\n",
      "Warning: /opt/sqoop/../hbase does not exist! HBase imports will fail.\n",
      "Please set $HBASE_HOME to the root of your HBase installation.\n",
      "Warning: /opt/sqoop/../accumulo does not exist! Accumulo imports will fail.\n",
      "Please set $ACCUMULO_HOME to the root of your Accumulo installation.\n",
      "Warning: /opt/sqoop/../zookeeper does not exist! Accumulo imports will fail.\n",
      "Please set $ZOOKEEPER_HOME to the root of your Zookeeper installation.\n",
      "2020-01-05 15:37:49,000 main ERROR Could not register mbeans java.security.AccessControlException: access denied (\"javax.management.MBeanTrustPermission\" \"register\")\n",
      "\tat java.security.AccessControlContext.checkPermission(AccessControlContext.java:472)\n",
      "\tat java.lang.SecurityManager.checkPermission(SecurityManager.java:585)\n",
      "\tat com.sun.jmx.interceptor.DefaultMBeanServerInterceptor.checkMBeanTrustPermission(DefaultMBeanServerInterceptor.java:1848)\n",
      "\tat com.sun.jmx.interceptor.DefaultMBeanServerInterceptor.registerMBean(DefaultMBeanServerInterceptor.java:322)\n",
      "\tat com.sun.jmx.mbeanserver.JmxMBeanServer.registerMBean(JmxMBeanServer.java:522)\n",
      "\tat org.apache.logging.log4j.core.jmx.Server.register(Server.java:380)\n",
      "\tat org.apache.logging.log4j.core.jmx.Server.reregisterMBeansAfterReconfigure(Server.java:165)\n",
      "\tat org.apache.logging.log4j.core.jmx.Server.reregisterMBeansAfterReconfigure(Server.java:138)\n",
      "\tat org.apache.logging.log4j.core.LoggerContext.setConfiguration(LoggerContext.java:507)\n",
      "\tat org.apache.logging.log4j.core.LoggerContext.start(LoggerContext.java:249)\n",
      "\tat org.apache.logging.log4j.core.async.AsyncLoggerContext.start(AsyncLoggerContext.java:86)\n",
      "\tat org.apache.logging.log4j.core.impl.Log4jContextFactory.getContext(Log4jContextFactory.java:239)\n",
      "\tat org.apache.logging.log4j.core.config.Configurator.initialize(Configurator.java:157)\n",
      "\tat org.apache.logging.log4j.core.config.Configurator.initialize(Configurator.java:130)\n",
      "\tat org.apache.logging.log4j.core.config.Configurator.initialize(Configurator.java:100)\n",
      "\tat org.apache.logging.log4j.core.config.Configurator.initialize(Configurator.java:187)\n",
      "\tat org.apache.hadoop.hive.common.LogUtils.initHiveLog4jDefault(LogUtils.java:154)\n",
      "\tat org.apache.hadoop.hive.common.LogUtils.initHiveLog4jCommon(LogUtils.java:90)\n",
      "\tat org.apache.hadoop.hive.common.LogUtils.initHiveLog4jCommon(LogUtils.java:82)\n",
      "\tat org.apache.hadoop.hive.common.LogUtils.initHiveLog4j(LogUtils.java:65)\n",
      "\tat org.apache.hadoop.hive.cli.CliDriver.run(CliDriver.java:702)\n",
      "\tat org.apache.hadoop.hive.cli.CliDriver.main(CliDriver.java:686)\n",
      "\tat sun.reflect.NativeMethodAccessorImpl.invoke0(Native Method)\n",
      "\tat sun.reflect.NativeMethodAccessorImpl.invoke(NativeMethodAccessorImpl.java:62)\n",
      "\tat sun.reflect.DelegatingMethodAccessorImpl.invoke(DelegatingMethodAccessorImpl.java:43)\n",
      "\tat java.lang.reflect.Method.invoke(Method.java:498)\n",
      "\tat org.apache.sqoop.hive.HiveImport.executeScript(HiveImport.java:331)\n",
      "\tat org.apache.sqoop.hive.HiveImport.importTable(HiveImport.java:241)\n",
      "\tat org.apache.sqoop.tool.ImportTool.importTable(ImportTool.java:537)\n",
      "\tat org.apache.sqoop.tool.ImportTool.run(ImportTool.java:628)\n",
      "\tat org.apache.sqoop.Sqoop.run(Sqoop.java:147)\n",
      "\tat org.apache.hadoop.util.ToolRunner.run(ToolRunner.java:76)\n",
      "\tat org.apache.sqoop.Sqoop.runSqoop(Sqoop.java:183)\n",
      "\tat org.apache.sqoop.Sqoop.runTool(Sqoop.java:234)\n",
      "\tat org.apache.sqoop.Sqoop.runTool(Sqoop.java:243)\n",
      "\tat org.apache.sqoop.Sqoop.main(Sqoop.java:252)\n",
      "\n",
      "Warning: /opt/sqoop/../hbase does not exist! HBase imports will fail.\n",
      "Please set $HBASE_HOME to the root of your HBase installation.\n",
      "Warning: /opt/sqoop/../accumulo does not exist! Accumulo imports will fail.\n",
      "Please set $ACCUMULO_HOME to the root of your Accumulo installation.\n",
      "Warning: /opt/sqoop/../zookeeper does not exist! Accumulo imports will fail.\n",
      "Please set $ZOOKEEPER_HOME to the root of your Zookeeper installation.\n",
      "2020-01-05 15:38:06,414 main ERROR Could not register mbeans java.security.AccessControlException: access denied (\"javax.management.MBeanTrustPermission\" \"register\")\n",
      "\tat java.security.AccessControlContext.checkPermission(AccessControlContext.java:472)\n",
      "\tat java.lang.SecurityManager.checkPermission(SecurityManager.java:585)\n",
      "\tat com.sun.jmx.interceptor.DefaultMBeanServerInterceptor.checkMBeanTrustPermission(DefaultMBeanServerInterceptor.java:1848)\n",
      "\tat com.sun.jmx.interceptor.DefaultMBeanServerInterceptor.registerMBean(DefaultMBeanServerInterceptor.java:322)\n",
      "\tat com.sun.jmx.mbeanserver.JmxMBeanServer.registerMBean(JmxMBeanServer.java:522)\n",
      "\tat org.apache.logging.log4j.core.jmx.Server.register(Server.java:380)\n",
      "\tat org.apache.logging.log4j.core.jmx.Server.reregisterMBeansAfterReconfigure(Server.java:165)\n",
      "\tat org.apache.logging.log4j.core.jmx.Server.reregisterMBeansAfterReconfigure(Server.java:138)\n",
      "\tat org.apache.logging.log4j.core.LoggerContext.setConfiguration(LoggerContext.java:507)\n",
      "\tat org.apache.logging.log4j.core.LoggerContext.start(LoggerContext.java:249)\n",
      "\tat org.apache.logging.log4j.core.async.AsyncLoggerContext.start(AsyncLoggerContext.java:86)\n",
      "\tat org.apache.logging.log4j.core.impl.Log4jContextFactory.getContext(Log4jContextFactory.java:239)\n",
      "\tat org.apache.logging.log4j.core.config.Configurator.initialize(Configurator.java:157)\n",
      "\tat org.apache.logging.log4j.core.config.Configurator.initialize(Configurator.java:130)\n",
      "\tat org.apache.logging.log4j.core.config.Configurator.initialize(Configurator.java:100)\n",
      "\tat org.apache.logging.log4j.core.config.Configurator.initialize(Configurator.java:187)\n",
      "\tat org.apache.hadoop.hive.common.LogUtils.initHiveLog4jDefault(LogUtils.java:154)\n",
      "\tat org.apache.hadoop.hive.common.LogUtils.initHiveLog4jCommon(LogUtils.java:90)\n",
      "\tat org.apache.hadoop.hive.common.LogUtils.initHiveLog4jCommon(LogUtils.java:82)\n",
      "\tat org.apache.hadoop.hive.common.LogUtils.initHiveLog4j(LogUtils.java:65)\n",
      "\tat org.apache.hadoop.hive.cli.CliDriver.run(CliDriver.java:702)\n",
      "\tat org.apache.hadoop.hive.cli.CliDriver.main(CliDriver.java:686)\n",
      "\tat sun.reflect.NativeMethodAccessorImpl.invoke0(Native Method)\n",
      "\tat sun.reflect.NativeMethodAccessorImpl.invoke(NativeMethodAccessorImpl.java:62)\n",
      "\tat sun.reflect.DelegatingMethodAccessorImpl.invoke(DelegatingMethodAccessorImpl.java:43)\n",
      "\tat java.lang.reflect.Method.invoke(Method.java:498)\n",
      "\tat org.apache.sqoop.hive.HiveImport.executeScript(HiveImport.java:331)\n",
      "\tat org.apache.sqoop.hive.HiveImport.importTable(HiveImport.java:241)\n",
      "\tat org.apache.sqoop.tool.ImportTool.importTable(ImportTool.java:537)\n",
      "\tat org.apache.sqoop.tool.ImportTool.run(ImportTool.java:628)\n",
      "\tat org.apache.sqoop.Sqoop.run(Sqoop.java:147)\n",
      "\tat org.apache.hadoop.util.ToolRunner.run(ToolRunner.java:76)\n",
      "\tat org.apache.sqoop.Sqoop.runSqoop(Sqoop.java:183)\n",
      "\tat org.apache.sqoop.Sqoop.runTool(Sqoop.java:234)\n",
      "\tat org.apache.sqoop.Sqoop.runTool(Sqoop.java:243)\n",
      "\tat org.apache.sqoop.Sqoop.main(Sqoop.java:252)\n",
      "\n",
      "Warning: /opt/sqoop/../hbase does not exist! HBase imports will fail.\n",
      "Please set $HBASE_HOME to the root of your HBase installation.\n",
      "Warning: /opt/sqoop/../accumulo does not exist! Accumulo imports will fail.\n",
      "Please set $ACCUMULO_HOME to the root of your Accumulo installation.\n",
      "Warning: /opt/sqoop/../zookeeper does not exist! Accumulo imports will fail.\n",
      "Please set $ZOOKEEPER_HOME to the root of your Zookeeper installation.\n",
      "2020-01-05 15:38:23,922 main ERROR Could not register mbeans java.security.AccessControlException: access denied (\"javax.management.MBeanTrustPermission\" \"register\")\n",
      "\tat java.security.AccessControlContext.checkPermission(AccessControlContext.java:472)\n",
      "\tat java.lang.SecurityManager.checkPermission(SecurityManager.java:585)\n",
      "\tat com.sun.jmx.interceptor.DefaultMBeanServerInterceptor.checkMBeanTrustPermission(DefaultMBeanServerInterceptor.java:1848)\n",
      "\tat com.sun.jmx.interceptor.DefaultMBeanServerInterceptor.registerMBean(DefaultMBeanServerInterceptor.java:322)\n",
      "\tat com.sun.jmx.mbeanserver.JmxMBeanServer.registerMBean(JmxMBeanServer.java:522)\n",
      "\tat org.apache.logging.log4j.core.jmx.Server.register(Server.java:380)\n",
      "\tat org.apache.logging.log4j.core.jmx.Server.reregisterMBeansAfterReconfigure(Server.java:165)\n",
      "\tat org.apache.logging.log4j.core.jmx.Server.reregisterMBeansAfterReconfigure(Server.java:138)\n",
      "\tat org.apache.logging.log4j.core.LoggerContext.setConfiguration(LoggerContext.java:507)\n",
      "\tat org.apache.logging.log4j.core.LoggerContext.start(LoggerContext.java:249)\n",
      "\tat org.apache.logging.log4j.core.async.AsyncLoggerContext.start(AsyncLoggerContext.java:86)\n",
      "\tat org.apache.logging.log4j.core.impl.Log4jContextFactory.getContext(Log4jContextFactory.java:239)\n",
      "\tat org.apache.logging.log4j.core.config.Configurator.initialize(Configurator.java:157)\n",
      "\tat org.apache.logging.log4j.core.config.Configurator.initialize(Configurator.java:130)\n",
      "\tat org.apache.logging.log4j.core.config.Configurator.initialize(Configurator.java:100)\n",
      "\tat org.apache.logging.log4j.core.config.Configurator.initialize(Configurator.java:187)\n",
      "\tat org.apache.hadoop.hive.common.LogUtils.initHiveLog4jDefault(LogUtils.java:154)\n",
      "\tat org.apache.hadoop.hive.common.LogUtils.initHiveLog4jCommon(LogUtils.java:90)\n",
      "\tat org.apache.hadoop.hive.common.LogUtils.initHiveLog4jCommon(LogUtils.java:82)\n",
      "\tat org.apache.hadoop.hive.common.LogUtils.initHiveLog4j(LogUtils.java:65)\n",
      "\tat org.apache.hadoop.hive.cli.CliDriver.run(CliDriver.java:702)\n",
      "\tat org.apache.hadoop.hive.cli.CliDriver.main(CliDriver.java:686)\n",
      "\tat sun.reflect.NativeMethodAccessorImpl.invoke0(Native Method)\n",
      "\tat sun.reflect.NativeMethodAccessorImpl.invoke(NativeMethodAccessorImpl.java:62)\n",
      "\tat sun.reflect.DelegatingMethodAccessorImpl.invoke(DelegatingMethodAccessorImpl.java:43)\n",
      "\tat java.lang.reflect.Method.invoke(Method.java:498)\n",
      "\tat org.apache.sqoop.hive.HiveImport.executeScript(HiveImport.java:331)\n",
      "\tat org.apache.sqoop.hive.HiveImport.importTable(HiveImport.java:241)\n",
      "\tat org.apache.sqoop.tool.ImportTool.importTable(ImportTool.java:537)\n",
      "\tat org.apache.sqoop.tool.ImportTool.run(ImportTool.java:628)\n",
      "\tat org.apache.sqoop.Sqoop.run(Sqoop.java:147)\n",
      "\tat org.apache.hadoop.util.ToolRunner.run(ToolRunner.java:76)\n",
      "\tat org.apache.sqoop.Sqoop.runSqoop(Sqoop.java:183)\n",
      "\tat org.apache.sqoop.Sqoop.runTool(Sqoop.java:234)\n",
      "\tat org.apache.sqoop.Sqoop.runTool(Sqoop.java:243)\n",
      "\tat org.apache.sqoop.Sqoop.main(Sqoop.java:252)\n",
      "\n"
     ]
    }
   ],
   "source": [
    "sqoop import \\\n",
    "--connect jdbc:postgresql://localhost:5432/shakespeare \\\n",
    "--username postgres \\\n",
    "--table chapter \\\n",
    "--hive-import --create-hive-table --direct 2> /dev/null\n",
    "\n",
    "sqoop import \\\n",
    "--connect jdbc:postgresql://localhost:5432/shakespeare \\\n",
    "--username postgres \\\n",
    "--table character \\\n",
    "--hive-import --create-hive-table --direct 2> /dev/null\n",
    "\n",
    "sqoop import \\\n",
    "--connect jdbc:postgresql://localhost:5432/shakespeare \\\n",
    "--username postgres \\\n",
    "--table character_work \\\n",
    "--hive-import --create-hive-table --direct 2> /dev/null\n",
    "\n",
    "sqoop import \\\n",
    "--connect jdbc:postgresql://localhost:5432/shakespeare \\\n",
    "--username postgres \\\n",
    "--table paragraph \\\n",
    "--hive-import --create-hive-table --direct 2> /dev/null\n",
    "\n",
    "sqoop import \\\n",
    "--connect jdbc:postgresql://localhost:5432/shakespeare \\\n",
    "--username postgres \\\n",
    "--table wordform \\\n",
    "--hive-import --create-hive-table --direct 2> /dev/null\n",
    "\n",
    "sqoop import \\\n",
    "--connect jdbc:postgresql://localhost:5432/shakespeare \\\n",
    "--username postgres \\\n",
    "--table work \\\n",
    "--hive-import --create-hive-table --direct 2> /dev/null\n"
   ]
  },
  {
   "cell_type": "code",
   "execution_count": 25,
   "metadata": {
    "kernel": "Bash"
   },
   "outputs": [
    {
     "name": "stdout",
     "output_type": "stream",
     "text": [
      "SLF4J: Class path contains multiple SLF4J bindings.\n",
      "SLF4J: Found binding in [jar:file:/opt/hive/lib/log4j-slf4j-impl-2.6.2.jar!/org/slf4j/impl/StaticLoggerBinder.class]\n",
      "SLF4J: Found binding in [jar:file:/opt/hadoop-2.9.2/share/hadoop/common/lib/slf4j-log4j12-1.7.25.jar!/org/slf4j/impl/StaticLoggerBinder.class]\n",
      "SLF4J: See http://www.slf4j.org/codes.html#multiple_bindings for an explanation.\n",
      "SLF4J: Actual binding is of type [org.apache.logging.slf4j.Log4jLoggerFactory]\n",
      "\n",
      "Logging initialized using configuration in jar:file:/opt/hive/lib/hive-common-2.3.6.jar!/hive-log4j2.properties Async: true\n",
      "OK\n",
      "chapter\n",
      "character\n",
      "character_work\n",
      "paragraph\n",
      "wordform\n",
      "work\n",
      "Time taken: 2.2 seconds, Fetched: 6 row(s)\n"
     ]
    }
   ],
   "source": [
    "hive -e 'show tables'"
   ]
  },
  {
   "cell_type": "markdown",
   "metadata": {
    "kernel": "Bash"
   },
   "source": [
    "Our aim here is to find total number of characters in shakespeare's each plays and get the all plays which have more than 20 characters"
   ]
  },
  {
   "cell_type": "code",
   "execution_count": 26,
   "metadata": {
    "kernel": "Bash"
   },
   "outputs": [],
   "source": [
    "cat > ~/script.pig <<EOF\n",
    "    work = LOAD 'work' USING org.apache.hive.hcatalog.pig.HCatLoader();\n",
    "    worked = foreach work generate workid as id_work,title;\n",
    "    character_work = LOAD 'character_work' USING org.apache.hive.hcatalog.pig.HCatLoader();\n",
    "    character_worked = foreach character_work generate workid as idwork,charid;\n",
    "    joined = JOIN worked by id_work, character_worked by idwork;\n",
    "    selected = foreach joined generate id_work,charid,title;\n",
    "    grouped = group selected by title;\n",
    "    charcount = foreach grouped generate group as title,COUNT(selected.charid) as numberofchar;\n",
    "    ordered = ORDER charcount by numberofchar DESC;\n",
    "    filtered = filter ordered by numberofchar > 20;\n",
    "    \n",
    "    DUMP filtered;\n",
    "EOF\n",
    "    "
   ]
  },
  {
   "cell_type": "code",
   "execution_count": 28,
   "metadata": {
    "kernel": "Bash"
   },
   "outputs": [
    {
     "name": "stdout",
     "output_type": "stream",
     "text": [
      "ls: cannot access '/opt/hive/hcatalog/lib/*hbase-storage-handler-*.jar': No such file or directory\n",
      "\n",
      "HadoopVersion\tPigVersion\tUserId\tStartedAt\tFinishedAt\tFeatures\n",
      "2.9.2\t0.17.0\tjovyan\t2020-01-05 15:47:35\t2020-01-05 15:49:59\tHASH_JOIN,GROUP_BY,ORDER_BY,FILTER\n",
      "\n",
      "Success!\n",
      "\n",
      "Job Stats (time in seconds):\n",
      "JobId\tMaps\tReduces\tMaxMapTime\tMinMapTime\tAvgMapTime\tMedianMapTime\tMaxReduceTime\tMinReduceTime\tAvgReduceTime\tMedianReducetime\tAlias\tFeature\tOutputs\n",
      "job_1578238352369_0005\t2\t1\t13\t12\t12\t12\t4\t4\t4\t4\tcharacter_work,character_worked,joined,selected,work,worked\tHASH_JOIN\t\n",
      "job_1578238352369_0006\t1\t1\t5\t5\t5\t5\t4\t4\t4\t4\tcharcount,filtered,grouped\tGROUP_BY,COMBINER\t\n",
      "job_1578238352369_0007\t1\t1\t8\t8\t8\t8\t7\t7\t7\t7\tordered\tSAMPLER\t\n",
      "job_1578238352369_0008\t1\t1\t9\t9\t9\t9\t4\t4\t4\t4\tordered\tORDER_BY\thdfs://localhost/tmp/temp1476668196/tmp-1955908881,\n",
      "\n",
      "Input(s):\n",
      "Successfully read 43 records from: \"work\"\n",
      "Successfully read 1346 records from: \"character_work\"\n",
      "\n",
      "Output(s):\n",
      "Successfully stored 33 records (770 bytes) in: \"hdfs://localhost/tmp/temp1476668196/tmp-1955908881\"\n",
      "\n",
      "Counters:\n",
      "Total records written : 33\n",
      "Total bytes written : 770\n",
      "Spillable Memory Manager spill count : 0\n",
      "Total bags proactively spilled: 0\n",
      "Total records proactively spilled: 0\n",
      "\n",
      "Job DAG:\n",
      "job_1578238352369_0005\t->\tjob_1578238352369_0006,\n",
      "job_1578238352369_0006\t->\tjob_1578238352369_0007,\n",
      "job_1578238352369_0007\t->\tjob_1578238352369_0008,\n",
      "job_1578238352369_0008\n",
      "\n",
      "\n",
      "(Henry VI, Part II,67)\n",
      "(Richard III,63)\n",
      "(Coriolanus,60)\n",
      "(Timon of Athens,57)\n",
      "(Antony and Cleopatra,57)\n",
      "(Henry VI, Part I,55)\n",
      "(Henry IV, Part II,54)\n",
      "(Henry VI, Part III,50)\n",
      "(Julius Caesar,49)\n",
      "(Henry VIII,47)\n",
      "(Pericles,46)\n",
      "(Henry V,46)\n",
      "(Macbeth,40)\n",
      "(Cymbeline,40)\n",
      "(Taming of the Shrew,36)\n",
      "(Richard II,35)\n",
      "(Henry IV, Part I,35)\n",
      "(The Winter's Tale,34)\n",
      "(Hamlet,33)\n",
      "(Romeo and Juliet,33)\n",
      "(Troilus and Cressida,30)\n",
      "(Titus Andronicus,30)\n",
      "(As You Like It,27)\n",
      "(King John,27)\n",
      "(Othello,27)\n",
      "(All's Well That Ends Well,26)\n",
      "(King Lear,25)\n",
      "(Merry Wives of Windsor,24)\n",
      "(Measure for Measure,24)\n",
      "(Midsummer Night's Dream,23)\n",
      "(Merchant of Venice,23)\n",
      "(Much Ado about Nothing,23)\n",
      "(Tempest,21)\n"
     ]
    }
   ],
   "source": [
    "pig -useHCatalog ~/script.pig 2>&1 | grep -Pv \"INFO|WARN\""
   ]
  },
  {
   "cell_type": "code",
   "execution_count": null,
   "metadata": {
    "kernel": "Bash"
   },
   "outputs": [],
   "source": []
  }
 ],
 "metadata": {
  "kernelspec": {
   "display_name": "SoS",
   "language": "sos",
   "name": "sos"
  },
  "language_info": {
   "codemirror_mode": "sos",
   "file_extension": ".sos",
   "mimetype": "text/x-sos",
   "name": "sos",
   "nbconvert_exporter": "sos_notebook.converter.SoS_Exporter",
   "pygments_lexer": "sos"
  },
  "sos": {
   "kernels": [
    [
     "Bash",
     "bash",
     "bash",
     "",
     "shell"
    ],
    [
     "Python 3",
     "python3",
     "python3",
     "",
     {
      "name": "ipython",
      "version": 3
     }
    ]
   ],
   "panel": {
    "displayed": true,
    "height": 0
   },
   "version": "0.21.0"
  },
  "toc": {
   "base_numbering": 1,
   "nav_menu": {},
   "number_sections": false,
   "sideBar": false,
   "skip_h1_title": false,
   "title_cell": "Table of Contents",
   "title_sidebar": "Contents",
   "toc_cell": false,
   "toc_position": {},
   "toc_section_display": false,
   "toc_window_display": false
  }
 },
 "nbformat": 4,
 "nbformat_minor": 2
}
